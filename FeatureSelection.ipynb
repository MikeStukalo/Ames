{
 "cells": [
  {
   "cell_type": "markdown",
   "metadata": {},
   "source": [
    "# Feature selection"
   ]
  },
  {
   "cell_type": "code",
   "execution_count": 124,
   "metadata": {},
   "outputs": [],
   "source": [
    "import pandas as pd\n",
    "import numpy as np\n",
    "import matplotlib.pyplot as plt\n",
    "from sklearn.preprocessing import normalize\n",
    "from sklearn.tree import DecisionTreeRegressor\n",
    "from sklearn.linear_model import Lasso, LassoCV\n",
    "from sklearn.model_selection import cross_val_score\n",
    "from sklearn import decomposition\n",
    "import pickle"
   ]
  },
  {
   "cell_type": "markdown",
   "metadata": {},
   "source": [
    "We use tree-based feature selection and PCA for dimensionality reduction of our dataset"
   ]
  },
  {
   "cell_type": "code",
   "execution_count": 125,
   "metadata": {},
   "outputs": [
    {
     "data": {
      "text/html": [
       "<div>\n",
       "<style scoped>\n",
       "    .dataframe tbody tr th:only-of-type {\n",
       "        vertical-align: middle;\n",
       "    }\n",
       "\n",
       "    .dataframe tbody tr th {\n",
       "        vertical-align: top;\n",
       "    }\n",
       "\n",
       "    .dataframe thead th {\n",
       "        text-align: right;\n",
       "    }\n",
       "</style>\n",
       "<table border=\"1\" class=\"dataframe\">\n",
       "  <thead>\n",
       "    <tr style=\"text-align: right;\">\n",
       "      <th></th>\n",
       "      <th>Id</th>\n",
       "      <th>MSSubClass</th>\n",
       "      <th>MSZoning</th>\n",
       "      <th>LotFrontage</th>\n",
       "      <th>LotArea</th>\n",
       "      <th>Street</th>\n",
       "      <th>Alley</th>\n",
       "      <th>LotShape</th>\n",
       "      <th>LandContour</th>\n",
       "      <th>Utilities</th>\n",
       "      <th>...</th>\n",
       "      <th>YrSold</th>\n",
       "      <th>SaleType</th>\n",
       "      <th>SaleCondition</th>\n",
       "      <th>SalePrice</th>\n",
       "      <th>Month</th>\n",
       "      <th>DJREI</th>\n",
       "      <th>Fannie</th>\n",
       "      <th>LaborForce</th>\n",
       "      <th>UnemplRate</th>\n",
       "      <th>Corn</th>\n",
       "    </tr>\n",
       "  </thead>\n",
       "  <tbody>\n",
       "    <tr>\n",
       "      <th>0</th>\n",
       "      <td>1</td>\n",
       "      <td>60</td>\n",
       "      <td>RL</td>\n",
       "      <td>65.0</td>\n",
       "      <td>8450</td>\n",
       "      <td>Pave</td>\n",
       "      <td>None</td>\n",
       "      <td>Reg</td>\n",
       "      <td>Lvl</td>\n",
       "      <td>AllPub</td>\n",
       "      <td>...</td>\n",
       "      <td>2008</td>\n",
       "      <td>WD</td>\n",
       "      <td>Normal</td>\n",
       "      <td>208500</td>\n",
       "      <td>200802</td>\n",
       "      <td>244.57</td>\n",
       "      <td>5.534</td>\n",
       "      <td>49426.0</td>\n",
       "      <td>3.0</td>\n",
       "      <td>3.923512</td>\n",
       "    </tr>\n",
       "    <tr>\n",
       "      <th>1</th>\n",
       "      <td>2</td>\n",
       "      <td>20</td>\n",
       "      <td>RL</td>\n",
       "      <td>80.0</td>\n",
       "      <td>9600</td>\n",
       "      <td>Pave</td>\n",
       "      <td>None</td>\n",
       "      <td>Reg</td>\n",
       "      <td>Lvl</td>\n",
       "      <td>AllPub</td>\n",
       "      <td>...</td>\n",
       "      <td>2007</td>\n",
       "      <td>WD</td>\n",
       "      <td>Normal</td>\n",
       "      <td>181500</td>\n",
       "      <td>200705</td>\n",
       "      <td>334.04</td>\n",
       "      <td>6.131</td>\n",
       "      <td>47518.0</td>\n",
       "      <td>2.6</td>\n",
       "      <td>3.287290</td>\n",
       "    </tr>\n",
       "    <tr>\n",
       "      <th>2</th>\n",
       "      <td>3</td>\n",
       "      <td>60</td>\n",
       "      <td>RL</td>\n",
       "      <td>68.0</td>\n",
       "      <td>11250</td>\n",
       "      <td>Pave</td>\n",
       "      <td>None</td>\n",
       "      <td>IR1</td>\n",
       "      <td>Lvl</td>\n",
       "      <td>AllPub</td>\n",
       "      <td>...</td>\n",
       "      <td>2008</td>\n",
       "      <td>WD</td>\n",
       "      <td>Normal</td>\n",
       "      <td>223500</td>\n",
       "      <td>200809</td>\n",
       "      <td>241.88</td>\n",
       "      <td>6.208</td>\n",
       "      <td>49516.0</td>\n",
       "      <td>3.0</td>\n",
       "      <td>5.329546</td>\n",
       "    </tr>\n",
       "    <tr>\n",
       "      <th>3</th>\n",
       "      <td>4</td>\n",
       "      <td>70</td>\n",
       "      <td>RL</td>\n",
       "      <td>60.0</td>\n",
       "      <td>9550</td>\n",
       "      <td>Pave</td>\n",
       "      <td>None</td>\n",
       "      <td>IR1</td>\n",
       "      <td>Lvl</td>\n",
       "      <td>AllPub</td>\n",
       "      <td>...</td>\n",
       "      <td>2006</td>\n",
       "      <td>WD</td>\n",
       "      <td>Abnorml</td>\n",
       "      <td>140000</td>\n",
       "      <td>200602</td>\n",
       "      <td>275.15</td>\n",
       "      <td>6.123</td>\n",
       "      <td>47959.0</td>\n",
       "      <td>2.9</td>\n",
       "      <td>2.139554</td>\n",
       "    </tr>\n",
       "    <tr>\n",
       "      <th>4</th>\n",
       "      <td>5</td>\n",
       "      <td>60</td>\n",
       "      <td>RL</td>\n",
       "      <td>84.0</td>\n",
       "      <td>14260</td>\n",
       "      <td>Pave</td>\n",
       "      <td>None</td>\n",
       "      <td>IR1</td>\n",
       "      <td>Lvl</td>\n",
       "      <td>AllPub</td>\n",
       "      <td>...</td>\n",
       "      <td>2008</td>\n",
       "      <td>WD</td>\n",
       "      <td>Normal</td>\n",
       "      <td>250000</td>\n",
       "      <td>200812</td>\n",
       "      <td>145.63</td>\n",
       "      <td>5.140</td>\n",
       "      <td>49657.0</td>\n",
       "      <td>3.7</td>\n",
       "      <td>5.309256</td>\n",
       "    </tr>\n",
       "  </tbody>\n",
       "</table>\n",
       "<p>5 rows × 87 columns</p>\n",
       "</div>"
      ],
      "text/plain": [
       "   Id  MSSubClass MSZoning  LotFrontage  LotArea Street Alley LotShape  \\\n",
       "0   1          60       RL         65.0     8450   Pave  None      Reg   \n",
       "1   2          20       RL         80.0     9600   Pave  None      Reg   \n",
       "2   3          60       RL         68.0    11250   Pave  None      IR1   \n",
       "3   4          70       RL         60.0     9550   Pave  None      IR1   \n",
       "4   5          60       RL         84.0    14260   Pave  None      IR1   \n",
       "\n",
       "  LandContour Utilities    ...    YrSold SaleType SaleCondition SalePrice  \\\n",
       "0         Lvl    AllPub    ...      2008       WD        Normal    208500   \n",
       "1         Lvl    AllPub    ...      2007       WD        Normal    181500   \n",
       "2         Lvl    AllPub    ...      2008       WD        Normal    223500   \n",
       "3         Lvl    AllPub    ...      2006       WD       Abnorml    140000   \n",
       "4         Lvl    AllPub    ...      2008       WD        Normal    250000   \n",
       "\n",
       "    Month   DJREI Fannie  LaborForce  UnemplRate      Corn  \n",
       "0  200802  244.57  5.534     49426.0         3.0  3.923512  \n",
       "1  200705  334.04  6.131     47518.0         2.6  3.287290  \n",
       "2  200809  241.88  6.208     49516.0         3.0  5.329546  \n",
       "3  200602  275.15  6.123     47959.0         2.9  2.139554  \n",
       "4  200812  145.63  5.140     49657.0         3.7  5.309256  \n",
       "\n",
       "[5 rows x 87 columns]"
      ]
     },
     "execution_count": 125,
     "metadata": {},
     "output_type": "execute_result"
    }
   ],
   "source": [
    "df = pd.read_csv('./data/new_train.csv')\n",
    "df.drop('Unnamed: 0', axis=1, inplace=True)\n",
    "\n",
    "# Find categorical variables\n",
    "numerical = set(df.mean().index)\n",
    "categorical = list(set(df.columns) - numerical) \n",
    "\n",
    "# Convert into categorical\n",
    "for column in categorical:\n",
    "    df[column] = df[column].astype('category')\n",
    "\n",
    "df.head()"
   ]
  },
  {
   "cell_type": "markdown",
   "metadata": {},
   "source": [
    "## Tree-based feature selection"
   ]
  },
  {
   "cell_type": "markdown",
   "metadata": {},
   "source": [
    "We use a decision tree regressor model to identify features with the most importance for the model."
   ]
  },
  {
   "cell_type": "code",
   "execution_count": 139,
   "metadata": {},
   "outputs": [],
   "source": [
    "\n",
    "data = df.copy()\n",
    "\n",
    "# Create sets\n",
    "X = data.copy().drop('SalePrice', axis=1)\n",
    "y = data.copy()['SalePrice']\n",
    "\n",
    "# Create dummies\n",
    "one_hot_data = pd.get_dummies(X[categorical],drop_first=True)\n",
    "\n",
    "#Drop categorical\n",
    "X = X.drop(categorical, axis=1)\n",
    "\n",
    "# Merge with one hot\n",
    "X = X.join(one_hot_data)"
   ]
  },
  {
   "cell_type": "markdown",
   "metadata": {},
   "source": [
    "We perform cross-validation to find optimal pruning parameters."
   ]
  },
  {
   "cell_type": "code",
   "execution_count": 187,
   "metadata": {},
   "outputs": [],
   "source": [
    "# Create placeholders for the results\n",
    "min_split = []\n",
    "scores = []\n",
    "min_leaf = []\n",
    "\n",
    "# Set optimization parameters\n",
    "m_smpl = np.linspace(start=10, stop=100,num=91, dtype='int')\n",
    "m_lf = np.linspace(2, 7, num=6, dtype='int')\n",
    "\n",
    "# Run optimization\n",
    "for smpl in m_smpl:\n",
    "    for lf in m_lf:\n",
    "        tree = DecisionTreeRegressor(min_samples_split=smpl, min_samples_leaf=lf, random_state=0)\n",
    "        cv = cross_val_score(tree,X, y, cv = 10)\n",
    "        score = np.mean(cv)\n",
    "        min_split = min_split + [smpl]\n",
    "        min_leaf = min_leaf + [lf]\n",
    "        scores = scores + [score]\n"
   ]
  },
  {
   "cell_type": "code",
   "execution_count": 188,
   "metadata": {},
   "outputs": [],
   "source": [
    "tmp_ = pd.DataFrame({'score':scores, 'smpl':min_split, 'leaf':min_leaf})"
   ]
  },
  {
   "cell_type": "code",
   "execution_count": 189,
   "metadata": {},
   "outputs": [
    {
     "data": {
      "text/html": [
       "<div>\n",
       "<style scoped>\n",
       "    .dataframe tbody tr th:only-of-type {\n",
       "        vertical-align: middle;\n",
       "    }\n",
       "\n",
       "    .dataframe tbody tr th {\n",
       "        vertical-align: top;\n",
       "    }\n",
       "\n",
       "    .dataframe thead th {\n",
       "        text-align: right;\n",
       "    }\n",
       "</style>\n",
       "<table border=\"1\" class=\"dataframe\">\n",
       "  <thead>\n",
       "    <tr style=\"text-align: right;\">\n",
       "      <th></th>\n",
       "      <th>score</th>\n",
       "      <th>smpl</th>\n",
       "      <th>leaf</th>\n",
       "    </tr>\n",
       "  </thead>\n",
       "  <tbody>\n",
       "    <tr>\n",
       "      <th>186</th>\n",
       "      <td>0.783492</td>\n",
       "      <td>41</td>\n",
       "      <td>2</td>\n",
       "    </tr>\n",
       "    <tr>\n",
       "      <th>234</th>\n",
       "      <td>0.783162</td>\n",
       "      <td>49</td>\n",
       "      <td>2</td>\n",
       "    </tr>\n",
       "    <tr>\n",
       "      <th>127</th>\n",
       "      <td>0.783131</td>\n",
       "      <td>31</td>\n",
       "      <td>3</td>\n",
       "    </tr>\n",
       "    <tr>\n",
       "      <th>198</th>\n",
       "      <td>0.782986</td>\n",
       "      <td>43</td>\n",
       "      <td>2</td>\n",
       "    </tr>\n",
       "    <tr>\n",
       "      <th>133</th>\n",
       "      <td>0.782888</td>\n",
       "      <td>32</td>\n",
       "      <td>3</td>\n",
       "    </tr>\n",
       "    <tr>\n",
       "      <th>181</th>\n",
       "      <td>0.782861</td>\n",
       "      <td>40</td>\n",
       "      <td>3</td>\n",
       "    </tr>\n",
       "    <tr>\n",
       "      <th>187</th>\n",
       "      <td>0.782838</td>\n",
       "      <td>41</td>\n",
       "      <td>3</td>\n",
       "    </tr>\n",
       "    <tr>\n",
       "      <th>258</th>\n",
       "      <td>0.782709</td>\n",
       "      <td>53</td>\n",
       "      <td>2</td>\n",
       "    </tr>\n",
       "    <tr>\n",
       "      <th>204</th>\n",
       "      <td>0.782556</td>\n",
       "      <td>44</td>\n",
       "      <td>2</td>\n",
       "    </tr>\n",
       "    <tr>\n",
       "      <th>139</th>\n",
       "      <td>0.782409</td>\n",
       "      <td>33</td>\n",
       "      <td>3</td>\n",
       "    </tr>\n",
       "    <tr>\n",
       "      <th>121</th>\n",
       "      <td>0.782243</td>\n",
       "      <td>30</td>\n",
       "      <td>3</td>\n",
       "    </tr>\n",
       "    <tr>\n",
       "      <th>193</th>\n",
       "      <td>0.782023</td>\n",
       "      <td>42</td>\n",
       "      <td>3</td>\n",
       "    </tr>\n",
       "    <tr>\n",
       "      <th>199</th>\n",
       "      <td>0.781775</td>\n",
       "      <td>43</td>\n",
       "      <td>3</td>\n",
       "    </tr>\n",
       "    <tr>\n",
       "      <th>252</th>\n",
       "      <td>0.781716</td>\n",
       "      <td>52</td>\n",
       "      <td>2</td>\n",
       "    </tr>\n",
       "    <tr>\n",
       "      <th>210</th>\n",
       "      <td>0.781599</td>\n",
       "      <td>45</td>\n",
       "      <td>2</td>\n",
       "    </tr>\n",
       "    <tr>\n",
       "      <th>145</th>\n",
       "      <td>0.781495</td>\n",
       "      <td>34</td>\n",
       "      <td>3</td>\n",
       "    </tr>\n",
       "    <tr>\n",
       "      <th>114</th>\n",
       "      <td>0.780861</td>\n",
       "      <td>29</td>\n",
       "      <td>2</td>\n",
       "    </tr>\n",
       "    <tr>\n",
       "      <th>138</th>\n",
       "      <td>0.780816</td>\n",
       "      <td>33</td>\n",
       "      <td>2</td>\n",
       "    </tr>\n",
       "    <tr>\n",
       "      <th>103</th>\n",
       "      <td>0.780698</td>\n",
       "      <td>27</td>\n",
       "      <td>3</td>\n",
       "    </tr>\n",
       "    <tr>\n",
       "      <th>156</th>\n",
       "      <td>0.780643</td>\n",
       "      <td>36</td>\n",
       "      <td>2</td>\n",
       "    </tr>\n",
       "  </tbody>\n",
       "</table>\n",
       "</div>"
      ],
      "text/plain": [
       "        score  smpl  leaf\n",
       "186  0.783492    41     2\n",
       "234  0.783162    49     2\n",
       "127  0.783131    31     3\n",
       "198  0.782986    43     2\n",
       "133  0.782888    32     3\n",
       "181  0.782861    40     3\n",
       "187  0.782838    41     3\n",
       "258  0.782709    53     2\n",
       "204  0.782556    44     2\n",
       "139  0.782409    33     3\n",
       "121  0.782243    30     3\n",
       "193  0.782023    42     3\n",
       "199  0.781775    43     3\n",
       "252  0.781716    52     2\n",
       "210  0.781599    45     2\n",
       "145  0.781495    34     3\n",
       "114  0.780861    29     2\n",
       "138  0.780816    33     2\n",
       "103  0.780698    27     3\n",
       "156  0.780643    36     2"
      ]
     },
     "execution_count": 189,
     "metadata": {},
     "output_type": "execute_result"
    }
   ],
   "source": [
    "tmp_.sort_values('score', ascending=False).head(20)"
   ]
  },
  {
   "cell_type": "markdown",
   "metadata": {},
   "source": [
    "We use optimized parameters (min_amples_split=41 and min_samples_leaf=2) to build the final model."
   ]
  },
  {
   "cell_type": "code",
   "execution_count": 191,
   "metadata": {},
   "outputs": [
    {
     "data": {
      "text/plain": [
       "0.8869258823708526"
      ]
     },
     "execution_count": 191,
     "metadata": {},
     "output_type": "execute_result"
    }
   ],
   "source": [
    "regression_tree = DecisionTreeRegressor(\n",
    " min_samples_split=41, min_samples_leaf=2,\n",
    "  random_state=0)\n",
    "\n",
    "regression_tree.fit(X,y)\n",
    "regression_tree.score(X,y)\n"
   ]
  },
  {
   "cell_type": "code",
   "execution_count": 193,
   "metadata": {},
   "outputs": [],
   "source": [
    "importance = pd.DataFrame({'features':X.columns, 'imp':regression_tree.feature_importances_}).\\\n",
    "                        sort_values('imp',ascending=False)\n",
    "\n",
    "importance_top20 = importance.iloc[:20,]"
   ]
  },
  {
   "cell_type": "code",
   "execution_count": 194,
   "metadata": {},
   "outputs": [
    {
     "data": {
      "text/plain": [
       "<BarContainer object of 20 artists>"
      ]
     },
     "execution_count": 194,
     "metadata": {},
     "output_type": "execute_result"
    },
    {
     "data": {
      "image/png": "[encoded data removed]",
      "text/plain": [
       "<Figure size 432x288 with 1 Axes>"
      ]
     },
     "metadata": {},
     "output_type": "display_data"
    }
   ],
   "source": [
    "plt.barh(importance_top20.features, importance_top20.imp)"
   ]
  },
  {
   "cell_type": "markdown",
   "metadata": {},
   "source": [
    "List factors with positive importance"
   ]
  },
  {
   "cell_type": "code",
   "execution_count": 197,
   "metadata": {},
   "outputs": [],
   "source": [
    "feature_list_dt = list(importance.loc[importance.imp>0,'features'])"
   ]
  },
  {
   "cell_type": "code",
   "execution_count": 198,
   "metadata": {},
   "outputs": [],
   "source": [
    "# Save features\n",
    "pickle.dump(obj=feature_list_dt, file=open('./tmp/feaure_list_dt.list','wb'))"
   ]
  },
  {
   "cell_type": "markdown",
   "metadata": {},
   "source": [
    "## LASSO feature selection"
   ]
  },
  {
   "cell_type": "markdown",
   "metadata": {},
   "source": [
    "We perform LASSO linear regularization to see what features stay in the set."
   ]
  },
  {
   "cell_type": "code",
   "execution_count": 203,
   "metadata": {},
   "outputs": [
    {
     "name": "stdout",
     "output_type": "stream",
     "text": [
      "Lasso picked 39 variables and eliminated the other 226 variables\n"
     ]
    }
   ],
   "source": [
    "# For feature selection we normalize data\n",
    "data = df.copy()\n",
    "data[list(numerical)] = normalize(data[list(numerical)]) #normalize\n",
    "\n",
    "X = data.copy().drop('SalePrice', axis=1)\n",
    "y = data.copy()['SalePrice']\n",
    "\n",
    "one_hot_data = pd.get_dummies(df[categorical],drop_first=True)\n",
    "\n",
    "#Drop categorical\n",
    "X = X.drop(categorical, axis=1)\n",
    "\n",
    "# Merge with one hot\n",
    "X = X.join(one_hot_data)\n",
    "\n",
    "model_lasso = LassoCV(alphas = [1, 0.1, 0.001, 0.0005]).fit(X, y)\n",
    "coef = pd.Series(model_lasso.coef_, index = X.columns)\n",
    "print(\"Lasso picked \" + str(sum(coef != 0)) + \" variables and eliminated the other \" +  str(sum(coef == 0)) + \" variables\")"
   ]
  },
  {
   "cell_type": "code",
   "execution_count": 204,
   "metadata": {},
   "outputs": [
    {
     "data": {
      "text/plain": [
       "CentralAir_Y            0.025779\n",
       "BsmtQual_Gd             0.011365\n",
       "KitchenQual_Gd          0.010045\n",
       "GarageType_Attchd       0.009105\n",
       "GarageCond_TA           0.007961\n",
       "SaleCondition_Normal    0.004926\n",
       "Foundation_PConc        0.004862\n",
       "Electrical_SBrkr        0.004332\n",
       "MSZoning_RL             0.004292\n",
       "GarageQual_TA           0.003769\n",
       "GarageFinish_RFn        0.003635\n",
       "ExterQual_Gd            0.003403\n",
       "PavedDrive_Y            0.002924\n",
       "Neighborhood_Crawfor    0.002128\n",
       "MasVnrType_BrkFace      0.001723\n",
       "Neighborhood_NWAmes     0.001330\n",
       "BldgType_Duplex         0.000959\n",
       "FireplaceQu_Gd          0.000916\n",
       "Neighborhood_Somerst    0.000782\n",
       "HouseStyle_2Story       0.000738\n",
       "Neighborhood_ClearCr    0.000000\n",
       "Neighborhood_BrkSide   -0.000000\n",
       "LotConfig_Inside       -0.000061\n",
       "BsmtExposure_Gd        -0.000103\n",
       "GarageQual_No          -0.000605\n",
       "MasVnrType_None        -0.000662\n",
       "GarageFinish_No        -0.001295\n",
       "Neighborhood_Edwards   -0.002391\n",
       "GarageCond_No          -0.002590\n",
       "HeatingQC_TA           -0.002766\n",
       "ExterCond_Fa           -0.004091\n",
       "Neighborhood_NoRidge   -0.005912\n",
       "BsmtFinType2_No        -0.006201\n",
       "HouseStyle_1Story      -0.006615\n",
       "Neighborhood_IDOTRR    -0.008427\n",
       "Neighborhood_MeadowV   -0.008491\n",
       "MSZoning_RM            -0.008937\n",
       "GarageType_No          -0.009658\n",
       "FireplaceQu_No         -0.010040\n",
       "Month                  -0.943919\n",
       "dtype: float64"
      ]
     },
     "execution_count": 204,
     "metadata": {},
     "output_type": "execute_result"
    }
   ],
   "source": [
    "pd.concat([coef.sort_values().head(20),\n",
    "                     coef.sort_values().tail(20)]).sort_values(ascending = False)"
   ]
  },
  {
   "cell_type": "code",
   "execution_count": 205,
   "metadata": {},
   "outputs": [],
   "source": [
    "# Save features\n",
    "feature_list_lasso = coef.index.values\n",
    "pickle.dump(obj=feature_list_lasso, file=open('./tmp/feaure_list_lasso.list','wb'))\n",
    "\n"
   ]
  },
  {
   "cell_type": "markdown",
   "metadata": {},
   "source": [
    "## PCA"
   ]
  },
  {
   "cell_type": "markdown",
   "metadata": {},
   "source": [
    "We perform principal component analysis."
   ]
  },
  {
   "cell_type": "code",
   "execution_count": 208,
   "metadata": {},
   "outputs": [
    {
     "data": {
      "text/plain": [
       "array([0.94316241, 0.98172199, 0.98660163, 0.98984162, 0.99250656,\n",
       "       0.99481896, 0.99670676, 0.99838534, 0.99886323, 0.99915715,\n",
       "       0.99940344, 0.99957873, 0.99971115, 0.9998142 , 0.99985341,\n",
       "       0.99988527, 0.99991417, 0.99994062, 0.99995545, 0.99996972,\n",
       "       0.99998151, 0.99998939, 0.99999506, 0.99999791, 0.99999981,\n",
       "       0.99999987, 0.99999988, 0.99999989, 0.9999999 , 0.9999999 ,\n",
       "       0.99999991, 0.99999991, 0.99999992, 0.99999992, 0.99999992,\n",
       "       0.99999992, 0.99999993, 0.99999993, 0.99999993, 0.99999993,\n",
       "       0.99999994, 0.99999994, 0.99999994, 0.99999994, 0.99999994,\n",
       "       0.99999995, 0.99999995, 0.99999995, 0.99999995, 0.99999995,\n",
       "       0.99999995, 0.99999996, 0.99999996, 0.99999996, 0.99999996,\n",
       "       0.99999996, 0.99999996, 0.99999996, 0.99999996, 0.99999997,\n",
       "       0.99999997, 0.99999997, 0.99999997, 0.99999997, 0.99999997,\n",
       "       0.99999997, 0.99999997, 0.99999997, 0.99999997, 0.99999997,\n",
       "       0.99999997, 0.99999998, 0.99999998, 0.99999998, 0.99999998,\n",
       "       0.99999998, 0.99999998, 0.99999998, 0.99999998, 0.99999998,\n",
       "       0.99999998, 0.99999998, 0.99999998, 0.99999998, 0.99999998,\n",
       "       0.99999998, 0.99999998, 0.99999998, 0.99999998, 0.99999998,\n",
       "       0.99999998, 0.99999999, 0.99999999, 0.99999999, 0.99999999,\n",
       "       0.99999999, 0.99999999, 0.99999999, 0.99999999, 0.99999999,\n",
       "       0.99999999, 0.99999999, 0.99999999, 0.99999999, 0.99999999,\n",
       "       0.99999999, 0.99999999, 0.99999999, 0.99999999, 0.99999999,\n",
       "       0.99999999, 0.99999999, 0.99999999, 0.99999999, 0.99999999,\n",
       "       0.99999999, 0.99999999, 0.99999999, 0.99999999, 0.99999999,\n",
       "       0.99999999, 0.99999999, 0.99999999, 0.99999999, 0.99999999,\n",
       "       0.99999999, 0.99999999, 0.99999999, 0.99999999, 1.        ,\n",
       "       1.        , 1.        , 1.        , 1.        , 1.        ,\n",
       "       1.        , 1.        , 1.        , 1.        , 1.        ,\n",
       "       1.        , 1.        , 1.        , 1.        , 1.        ,\n",
       "       1.        , 1.        , 1.        , 1.        , 1.        ,\n",
       "       1.        , 1.        , 1.        , 1.        , 1.        ,\n",
       "       1.        , 1.        , 1.        , 1.        , 1.        ,\n",
       "       1.        , 1.        , 1.        , 1.        , 1.        ,\n",
       "       1.        , 1.        , 1.        , 1.        , 1.        ,\n",
       "       1.        , 1.        , 1.        , 1.        , 1.        ,\n",
       "       1.        , 1.        , 1.        , 1.        , 1.        ,\n",
       "       1.        , 1.        , 1.        , 1.        , 1.        ,\n",
       "       1.        , 1.        , 1.        , 1.        , 1.        ,\n",
       "       1.        , 1.        , 1.        , 1.        , 1.        ,\n",
       "       1.        , 1.        , 1.        , 1.        , 1.        ,\n",
       "       1.        , 1.        , 1.        , 1.        , 1.        ,\n",
       "       1.        , 1.        , 1.        , 1.        , 1.        ,\n",
       "       1.        , 1.        , 1.        , 1.        , 1.        ,\n",
       "       1.        , 1.        , 1.        , 1.        , 1.        ,\n",
       "       1.        , 1.        , 1.        , 1.        , 1.        ,\n",
       "       1.        , 1.        , 1.        , 1.        , 1.        ,\n",
       "       1.        , 1.        , 1.        , 1.        , 1.        ,\n",
       "       1.        , 1.        , 1.        , 1.        , 1.        ,\n",
       "       1.        , 1.        , 1.        , 1.        , 1.        ,\n",
       "       1.        , 1.        , 1.        , 1.        , 1.        ,\n",
       "       1.        , 1.        , 1.        , 1.        , 1.        ,\n",
       "       1.        , 1.        , 1.        , 1.        , 1.        ,\n",
       "       1.        , 1.        , 1.        , 1.        , 1.        ])"
      ]
     },
     "execution_count": 208,
     "metadata": {},
     "output_type": "execute_result"
    }
   ],
   "source": [
    "# For feature selection we normalize data\n",
    "data = df.copy()\n",
    "\n",
    "X = data.copy().drop('SalePrice', axis=1)\n",
    "y = data.copy()['SalePrice']\n",
    "\n",
    "one_hot_data = pd.get_dummies(df[categorical],drop_first=True)\n",
    "\n",
    "#Drop categorical\n",
    "X = X.drop(categorical, axis=1)\n",
    "\n",
    "# Merge with one hot\n",
    "X = X.join(one_hot_data)\n",
    "\n",
    "\n",
    "pca = decomposition.PCA(n_components=X.shape[1])\n",
    "pca.fit(X)\n",
    "transformed = pca.transform(X)\n",
    "\n",
    "explained_variance = np.var(transformed, axis=0)\n",
    "explained_variance_ratio = explained_variance / np.sum(explained_variance)\n",
    "\n",
    "# Find how may components explain >95% of variance\n",
    "expl = np.cumsum(explained_variance_ratio)\n",
    "len(expl[expl<=0.95])\n",
    "\n",
    "expl"
   ]
  },
  {
   "cell_type": "code",
   "execution_count": 123,
   "metadata": {},
   "outputs": [],
   "source": [
    "# Save PCA\n",
    "pickle.dump(pca, open('./tmp/pca', 'wb'))"
   ]
  }
 ],
 "metadata": {
  "kernelspec": {
   "display_name": "Python 3",
   "language": "python",
   "name": "python3"
  },
  "language_info": {
   "codemirror_mode": {
    "name": "ipython",
    "version": 3
   },
   "file_extension": ".py",
   "mimetype": "text/x-python",
   "name": "python",
   "nbconvert_exporter": "python",
   "pygments_lexer": "ipython3",
   "version": "3.6.5"
  }
 },
 "nbformat": 4,
 "nbformat_minor": 2
}
