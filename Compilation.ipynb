{
 "cells": [
  {
   "cell_type": "markdown",
   "metadata": {},
   "source": [
    "## Data compilation"
   ]
  },
  {
   "cell_type": "code",
   "execution_count": 1,
   "metadata": {},
   "outputs": [],
   "source": [
    "import pandas as pd\n",
    "import numpy as np"
   ]
  },
  {
   "cell_type": "markdown",
   "metadata": {},
   "source": [
    "## Combining dataset"
   ]
  },
  {
   "cell_type": "markdown",
   "metadata": {},
   "source": [
    "We combine together training and test dataset, so that we can use the same variables and imputation methods across both dataset. We assign home price (SalePrice) values for test dataset at $99. This way we can separate datasets on next steps."
   ]
  },
  {
   "cell_type": "code",
   "execution_count": 5,
   "metadata": {},
   "outputs": [
    {
     "data": {
      "text/plain": [
       "(1460, 81)"
      ]
     },
     "execution_count": 5,
     "metadata": {},
     "output_type": "execute_result"
    }
   ],
   "source": [
    "train = pd.read_csv(\"./data/train.csv\")\n",
    "train.shape"
   ]
  },
  {
   "cell_type": "code",
   "execution_count": 6,
   "metadata": {},
   "outputs": [
    {
     "data": {
      "text/plain": [
       "(1459, 80)"
      ]
     },
     "execution_count": 6,
     "metadata": {},
     "output_type": "execute_result"
    }
   ],
   "source": [
    "test = pd.read_csv(\"./data/test.csv\")\n",
    "test.shape"
   ]
  },
  {
   "cell_type": "code",
   "execution_count": 9,
   "metadata": {},
   "outputs": [
    {
     "data": {
      "text/plain": [
       "(1459, 81)"
      ]
     },
     "execution_count": 9,
     "metadata": {},
     "output_type": "execute_result"
    }
   ],
   "source": [
    "# Add SalePrice = 99 to test set\n",
    "test['SalePrice'] = 99\n",
    "test.shape"
   ]
  },
  {
   "cell_type": "code",
   "execution_count": 12,
   "metadata": {},
   "outputs": [
    {
     "data": {
      "text/plain": [
       "(2919, 81)"
      ]
     },
     "execution_count": 12,
     "metadata": {},
     "output_type": "execute_result"
    }
   ],
   "source": [
    "# Get a combined dataset\n",
    "dataset = test.append(train)\n",
    "dataset.shape"
   ]
  },
  {
   "cell_type": "markdown",
   "metadata": {},
   "source": [
    "We also create a variable Month that is equal to year*100+month. It will help us to join time series later"
   ]
  },
  {
   "cell_type": "code",
   "execution_count": 14,
   "metadata": {},
   "outputs": [
    {
     "data": {
      "text/plain": [
       "0    201006\n",
       "1    201006\n",
       "2    201003\n",
       "3    201006\n",
       "4    201001\n",
       "Name: Month, dtype: int64"
      ]
     },
     "execution_count": 14,
     "metadata": {},
     "output_type": "execute_result"
    }
   ],
   "source": [
    "dataset['Month'] = dataset['YrSold'] * 100 + dataset['MoSold']\n",
    "dataset.Month.head()"
   ]
  },
  {
   "cell_type": "code",
   "execution_count": 15,
   "metadata": {},
   "outputs": [],
   "source": [
    "# Save the dataset\n",
    "dataset.to_csv(\"./data/dataset.csv\", index=False)"
   ]
  },
  {
   "cell_type": "markdown",
   "metadata": {},
   "source": [
    "## Merging with time-series datasets"
   ]
  },
  {
   "cell_type": "markdown",
   "metadata": {},
   "source": [
    "We are adding the following variables that may explain dynamics of housing prices:\n",
    "\n",
    "* Dow Jones Real Estate index (lagged by one month)\n",
    "\n",
    "* Fannie Mae mortgage rates (lagged)\n",
    "\n",
    "* Labor force and Unemployment rate in Ames (lagged)"
   ]
  },
  {
   "cell_type": "code",
   "execution_count": 50,
   "metadata": {},
   "outputs": [],
   "source": [
    "dataset = pd.read_csv('./data/dataset.csv')"
   ]
  },
  {
   "cell_type": "code",
   "execution_count": 51,
   "metadata": {},
   "outputs": [],
   "source": [
    "# A helper function that creates Month variable\n",
    "def createMonth(date):\n",
    "    '''\n",
    "    A helper function that takes a date and returns an integer YYYYMM\n",
    "    '''\n",
    "    year = int(date.strftime('%Y'))\n",
    "    month = int(date.strftime('%m'))\n",
    "    \n",
    "    return (year*100 +month)\n",
    "\n",
    "# Dow Jones Real estate index\n",
    "djre = pd.read_csv(\"./data/djre.csv\", parse_dates=True)\n",
    "\n",
    "djre['Date'] = pd.to_datetime(djre['Date']) #Convert to datetime\n",
    "\n",
    "djre['Month'] = djre['Date'].apply(lambda x: createMonth(x))\n",
    "djre = djre.groupby('Month').last().reset_index() # Keep end of month observation\n",
    "djre.set_index('Date', inplace=True) # Set date index to use shift method later\n",
    "\n",
    "djre = djre.shift(1) #Create a lagged variable\n",
    "\n",
    "# fannie mae mortgage rates \n",
    "fannie = pd.read_csv('./data/FannieMaeRates.csv', parse_dates=True)\n",
    "\n",
    "fannie['Date'] = pd.to_datetime(fannie['Date']) #Convert to datetime\n",
    "\n",
    "fannie['Month'] = fannie['Date'].apply(lambda x: createMonth(x))\n",
    "fannie = fannie.groupby('Month').last().reset_index() # Keep end of month observation\n",
    "fannie.set_index('Date', inplace=True) # Set date index to use shift method later\n",
    "\n",
    "fannie = fannie.shift(1) #Create a lagged variable\n",
    "fannie.columns = ['Month', 'Fannie']\n",
    "\n",
    "\n",
    "# Ames unemployment rate\n",
    "unempl = pd.read_csv(\"./data/unempl.csv\", parse_dates=True)\n",
    "\n",
    "unempl['Month'] = unempl['Year']*100 + unempl['Month']\n",
    "unempl['Date'] = pd.to_datetime(unempl['Month'], format='%Y%m') # Still need date to create lagged\n",
    "unempl.drop(['Year', 'employment', 'unemployment'], axis=1, inplace=True)\n",
    "\n",
    "unempl.set_index('Date', inplace=True) # Set date index to use shift method later\n",
    "\n",
    "unempl = unempl.shift(1) #Create a lagged variable\n",
    "unempl.columns = ['Month', 'LaborForce', 'UnemplRate']\n",
    "\n",
    "\n",
    "# Combine with the dataset\n",
    "dataset = pd.merge(dataset, djre, on='Month', how='left')\n",
    "dataset = pd.merge(dataset, fannie, on='Month', how='left')\n",
    "dataset = pd.merge(dataset, unempl, on='Month', how='left')\n",
    "\n",
    "\n",
    "\n"
   ]
  },
  {
   "cell_type": "code",
   "execution_count": 52,
   "metadata": {},
   "outputs": [
    {
     "data": {
      "text/html": [
       "<div>\n",
       "<style scoped>\n",
       "    .dataframe tbody tr th:only-of-type {\n",
       "        vertical-align: middle;\n",
       "    }\n",
       "\n",
       "    .dataframe tbody tr th {\n",
       "        vertical-align: top;\n",
       "    }\n",
       "\n",
       "    .dataframe thead th {\n",
       "        text-align: right;\n",
       "    }\n",
       "</style>\n",
       "<table border=\"1\" class=\"dataframe\">\n",
       "  <thead>\n",
       "    <tr style=\"text-align: right;\">\n",
       "      <th></th>\n",
       "      <th>Id</th>\n",
       "      <th>MSSubClass</th>\n",
       "      <th>MSZoning</th>\n",
       "      <th>LotFrontage</th>\n",
       "      <th>LotArea</th>\n",
       "      <th>Street</th>\n",
       "      <th>Alley</th>\n",
       "      <th>LotShape</th>\n",
       "      <th>LandContour</th>\n",
       "      <th>Utilities</th>\n",
       "      <th>...</th>\n",
       "      <th>MoSold</th>\n",
       "      <th>YrSold</th>\n",
       "      <th>SaleType</th>\n",
       "      <th>SaleCondition</th>\n",
       "      <th>SalePrice</th>\n",
       "      <th>Month</th>\n",
       "      <th>DJREI</th>\n",
       "      <th>Fannie</th>\n",
       "      <th>LaborForce</th>\n",
       "      <th>UnemplRate</th>\n",
       "    </tr>\n",
       "  </thead>\n",
       "  <tbody>\n",
       "    <tr>\n",
       "      <th>0</th>\n",
       "      <td>1461</td>\n",
       "      <td>20</td>\n",
       "      <td>RH</td>\n",
       "      <td>80.0</td>\n",
       "      <td>11622</td>\n",
       "      <td>Pave</td>\n",
       "      <td>NaN</td>\n",
       "      <td>Reg</td>\n",
       "      <td>Lvl</td>\n",
       "      <td>AllPub</td>\n",
       "      <td>...</td>\n",
       "      <td>6</td>\n",
       "      <td>2010</td>\n",
       "      <td>WD</td>\n",
       "      <td>Normal</td>\n",
       "      <td>99</td>\n",
       "      <td>201006</td>\n",
       "      <td>183.00</td>\n",
       "      <td>4.561</td>\n",
       "      <td>51950.0</td>\n",
       "      <td>4.7</td>\n",
       "    </tr>\n",
       "    <tr>\n",
       "      <th>1</th>\n",
       "      <td>1462</td>\n",
       "      <td>20</td>\n",
       "      <td>RL</td>\n",
       "      <td>81.0</td>\n",
       "      <td>14267</td>\n",
       "      <td>Pave</td>\n",
       "      <td>NaN</td>\n",
       "      <td>IR1</td>\n",
       "      <td>Lvl</td>\n",
       "      <td>AllPub</td>\n",
       "      <td>...</td>\n",
       "      <td>6</td>\n",
       "      <td>2010</td>\n",
       "      <td>WD</td>\n",
       "      <td>Normal</td>\n",
       "      <td>99</td>\n",
       "      <td>201006</td>\n",
       "      <td>183.00</td>\n",
       "      <td>4.561</td>\n",
       "      <td>51950.0</td>\n",
       "      <td>4.7</td>\n",
       "    </tr>\n",
       "    <tr>\n",
       "      <th>2</th>\n",
       "      <td>1463</td>\n",
       "      <td>60</td>\n",
       "      <td>RL</td>\n",
       "      <td>74.0</td>\n",
       "      <td>13830</td>\n",
       "      <td>Pave</td>\n",
       "      <td>NaN</td>\n",
       "      <td>IR1</td>\n",
       "      <td>Lvl</td>\n",
       "      <td>AllPub</td>\n",
       "      <td>...</td>\n",
       "      <td>3</td>\n",
       "      <td>2010</td>\n",
       "      <td>WD</td>\n",
       "      <td>Normal</td>\n",
       "      <td>99</td>\n",
       "      <td>201003</td>\n",
       "      <td>193.37</td>\n",
       "      <td>4.762</td>\n",
       "      <td>53639.0</td>\n",
       "      <td>4.6</td>\n",
       "    </tr>\n",
       "    <tr>\n",
       "      <th>3</th>\n",
       "      <td>1464</td>\n",
       "      <td>60</td>\n",
       "      <td>RL</td>\n",
       "      <td>78.0</td>\n",
       "      <td>9978</td>\n",
       "      <td>Pave</td>\n",
       "      <td>NaN</td>\n",
       "      <td>IR1</td>\n",
       "      <td>Lvl</td>\n",
       "      <td>AllPub</td>\n",
       "      <td>...</td>\n",
       "      <td>6</td>\n",
       "      <td>2010</td>\n",
       "      <td>WD</td>\n",
       "      <td>Normal</td>\n",
       "      <td>99</td>\n",
       "      <td>201006</td>\n",
       "      <td>183.00</td>\n",
       "      <td>4.561</td>\n",
       "      <td>51950.0</td>\n",
       "      <td>4.7</td>\n",
       "    </tr>\n",
       "    <tr>\n",
       "      <th>4</th>\n",
       "      <td>1465</td>\n",
       "      <td>120</td>\n",
       "      <td>RL</td>\n",
       "      <td>43.0</td>\n",
       "      <td>5005</td>\n",
       "      <td>Pave</td>\n",
       "      <td>NaN</td>\n",
       "      <td>IR1</td>\n",
       "      <td>HLS</td>\n",
       "      <td>AllPub</td>\n",
       "      <td>...</td>\n",
       "      <td>1</td>\n",
       "      <td>2010</td>\n",
       "      <td>WD</td>\n",
       "      <td>Normal</td>\n",
       "      <td>99</td>\n",
       "      <td>201001</td>\n",
       "      <td>168.83</td>\n",
       "      <td>4.993</td>\n",
       "      <td>52631.0</td>\n",
       "      <td>4.8</td>\n",
       "    </tr>\n",
       "  </tbody>\n",
       "</table>\n",
       "<p>5 rows × 86 columns</p>\n",
       "</div>"
      ],
      "text/plain": [
       "     Id  MSSubClass MSZoning  LotFrontage  LotArea Street Alley LotShape  \\\n",
       "0  1461          20       RH         80.0    11622   Pave   NaN      Reg   \n",
       "1  1462          20       RL         81.0    14267   Pave   NaN      IR1   \n",
       "2  1463          60       RL         74.0    13830   Pave   NaN      IR1   \n",
       "3  1464          60       RL         78.0     9978   Pave   NaN      IR1   \n",
       "4  1465         120       RL         43.0     5005   Pave   NaN      IR1   \n",
       "\n",
       "  LandContour Utilities     ...     MoSold YrSold SaleType SaleCondition  \\\n",
       "0         Lvl    AllPub     ...          6   2010       WD        Normal   \n",
       "1         Lvl    AllPub     ...          6   2010       WD        Normal   \n",
       "2         Lvl    AllPub     ...          3   2010       WD        Normal   \n",
       "3         Lvl    AllPub     ...          6   2010       WD        Normal   \n",
       "4         HLS    AllPub     ...          1   2010       WD        Normal   \n",
       "\n",
       "  SalePrice   Month   DJREI  Fannie  LaborForce  UnemplRate  \n",
       "0        99  201006  183.00   4.561     51950.0         4.7  \n",
       "1        99  201006  183.00   4.561     51950.0         4.7  \n",
       "2        99  201003  193.37   4.762     53639.0         4.6  \n",
       "3        99  201006  183.00   4.561     51950.0         4.7  \n",
       "4        99  201001  168.83   4.993     52631.0         4.8  \n",
       "\n",
       "[5 rows x 86 columns]"
      ]
     },
     "execution_count": 52,
     "metadata": {},
     "output_type": "execute_result"
    }
   ],
   "source": [
    "dataset.head()"
   ]
  },
  {
   "cell_type": "markdown",
   "metadata": {},
   "source": [
    "## Imputation of missingness"
   ]
  },
  {
   "cell_type": "code",
   "execution_count": 56,
   "metadata": {},
   "outputs": [
    {
     "data": {
      "text/plain": [
       "MSZoning           4\n",
       "LotFrontage      486\n",
       "Alley           2721\n",
       "Utilities          2\n",
       "Exterior1st        1\n",
       "Exterior2nd        1\n",
       "MasVnrType        24\n",
       "MasVnrArea        23\n",
       "BsmtQual          81\n",
       "BsmtCond          82\n",
       "BsmtExposure      82\n",
       "BsmtFinType1      79\n",
       "BsmtFinSF1         1\n",
       "BsmtFinType2      80\n",
       "BsmtFinSF2         1\n",
       "BsmtUnfSF          1\n",
       "TotalBsmtSF        1\n",
       "Electrical         1\n",
       "BsmtFullBath       2\n",
       "BsmtHalfBath       2\n",
       "KitchenQual        1\n",
       "Functional         2\n",
       "FireplaceQu     1420\n",
       "GarageType       157\n",
       "GarageYrBlt      159\n",
       "GarageFinish     159\n",
       "GarageCars         1\n",
       "GarageArea         1\n",
       "GarageQual       159\n",
       "GarageCond       159\n",
       "PoolQC          2909\n",
       "Fence           2348\n",
       "MiscFeature     2814\n",
       "SaleType           1\n",
       "dtype: int64"
      ]
     },
     "execution_count": 56,
     "metadata": {},
     "output_type": "execute_result"
    }
   ],
   "source": [
    "missing_data = dataset.isna().sum(axis=0)\n",
    "missing_data[missing_data >0 ]"
   ]
  },
  {
   "cell_type": "code",
   "execution_count": 57,
   "metadata": {},
   "outputs": [
    {
     "data": {
      "text/plain": [
       "Id               0.000000\n",
       "MSSubClass       0.000000\n",
       "MSZoning         0.001370\n",
       "LotFrontage      0.166495\n",
       "LotArea          0.000000\n",
       "Street           0.000000\n",
       "Alley            0.932169\n",
       "LotShape         0.000000\n",
       "LandContour      0.000000\n",
       "Utilities        0.000685\n",
       "LotConfig        0.000000\n",
       "LandSlope        0.000000\n",
       "Neighborhood     0.000000\n",
       "Condition1       0.000000\n",
       "Condition2       0.000000\n",
       "BldgType         0.000000\n",
       "HouseStyle       0.000000\n",
       "OverallQual      0.000000\n",
       "OverallCond      0.000000\n",
       "YearBuilt        0.000000\n",
       "YearRemodAdd     0.000000\n",
       "RoofStyle        0.000000\n",
       "RoofMatl         0.000000\n",
       "Exterior1st      0.000343\n",
       "Exterior2nd      0.000343\n",
       "MasVnrType       0.008222\n",
       "MasVnrArea       0.007879\n",
       "ExterQual        0.000000\n",
       "ExterCond        0.000000\n",
       "Foundation       0.000000\n",
       "                   ...   \n",
       "Fireplaces       0.000000\n",
       "FireplaceQu      0.486468\n",
       "GarageType       0.053786\n",
       "GarageYrBlt      0.054471\n",
       "GarageFinish     0.054471\n",
       "GarageCars       0.000343\n",
       "GarageArea       0.000343\n",
       "GarageQual       0.054471\n",
       "GarageCond       0.054471\n",
       "PavedDrive       0.000000\n",
       "WoodDeckSF       0.000000\n",
       "OpenPorchSF      0.000000\n",
       "EnclosedPorch    0.000000\n",
       "3SsnPorch        0.000000\n",
       "ScreenPorch      0.000000\n",
       "PoolArea         0.000000\n",
       "PoolQC           0.996574\n",
       "Fence            0.804385\n",
       "MiscFeature      0.964029\n",
       "MiscVal          0.000000\n",
       "MoSold           0.000000\n",
       "YrSold           0.000000\n",
       "SaleType         0.000343\n",
       "SaleCondition    0.000000\n",
       "SalePrice        0.000000\n",
       "Month            0.000000\n",
       "DJREI            0.000000\n",
       "Fannie           0.000000\n",
       "LaborForce       0.000000\n",
       "UnemplRate       0.000000\n",
       "Length: 86, dtype: float64"
      ]
     },
     "execution_count": 57,
     "metadata": {},
     "output_type": "execute_result"
    }
   ],
   "source": [
    "missing_data/dataset.shape[0]  # As percentage of data"
   ]
  }
 ],
 "metadata": {
  "kernelspec": {
   "display_name": "Python 3",
   "language": "python",
   "name": "python3"
  },
  "language_info": {
   "codemirror_mode": {
    "name": "ipython",
    "version": 3
   },
   "file_extension": ".py",
   "mimetype": "text/x-python",
   "name": "python",
   "nbconvert_exporter": "python",
   "pygments_lexer": "ipython3",
   "version": "3.7.0"
  }
 },
 "nbformat": 4,
 "nbformat_minor": 2
}
