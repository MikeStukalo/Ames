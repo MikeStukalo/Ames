{
 "cells": [
  {
   "cell_type": "markdown",
   "metadata": {},
   "source": [
    "# Multiple Linear Regression - log(saleprice)"
   ]
  },
  {
   "cell_type": "markdown",
   "metadata": {},
   "source": [
    "### Prepare data for regression"
   ]
  },
  {
   "cell_type": "code",
   "execution_count": 1,
   "metadata": {},
   "outputs": [],
   "source": [
    "import numpy as np\n",
    "import pandas as pd\n",
    "%matplotlib inline\n",
    "import matplotlib.pyplot as plt"
   ]
  },
  {
   "cell_type": "code",
   "execution_count": 2,
   "metadata": {},
   "outputs": [],
   "source": [
    "new_test = pd.read_csv('./data/new_test.csv')\n",
    "new_train = pd.read_csv('./data/new_train.csv')"
   ]
  },
  {
   "cell_type": "code",
   "execution_count": 3,
   "metadata": {},
   "outputs": [],
   "source": [
    "new_train.drop(['Id'], axis = 1, inplace = True)\n",
    "new_train = new_train.rename(columns={\"Unnamed: 0\": \"Id\"})\n",
    "new_train = new_train.set_index('Id')"
   ]
  },
  {
   "cell_type": "code",
   "execution_count": 11,
   "metadata": {},
   "outputs": [],
   "source": [
    "features = new_train.drop(['SalePrice'], axis = 1)\n",
    "salePrice = new_train['SalePrice']\n",
    "## get dummies\n",
    "features = pd.get_dummies(features, drop_first = True)"
   ]
  },
  {
   "cell_type": "markdown",
   "metadata": {},
   "source": [
    "### See distribution of sale price vs log(saleprice)"
   ]
  },
  {
   "cell_type": "code",
   "execution_count": 12,
   "metadata": {},
   "outputs": [
    {
     "data": {
      "text/plain": [
       "<matplotlib.axes._subplots.AxesSubplot at 0x7fa66d72f7b8>"
      ]
     },
     "execution_count": 12,
     "metadata": {},
     "output_type": "execute_result"
    },
    {
     "data": {
      "image/png": "[encoded data removed]",
      "text/plain": [
       "<Figure size 432x288 with 1 Axes>"
      ]
     },
     "metadata": {
      "needs_background": "light"
     },
     "output_type": "display_data"
    }
   ],
   "source": [
    "salePrice.hist()"
   ]
  },
  {
   "cell_type": "code",
   "execution_count": 14,
   "metadata": {},
   "outputs": [
    {
     "data": {
      "text/plain": [
       "<matplotlib.axes._subplots.AxesSubplot at 0x7fa66d509f98>"
      ]
     },
     "execution_count": 14,
     "metadata": {},
     "output_type": "execute_result"
    },
    {
     "data": {
      "image/png": "[encoded data removed]",
      "text/plain": [
       "<Figure size 432x288 with 1 Axes>"
      ]
     },
     "metadata": {
      "needs_background": "light"
     },
     "output_type": "display_data"
    }
   ],
   "source": [
    "np.log(salePrice).hist()"
   ]
  },
  {
   "cell_type": "markdown",
   "metadata": {},
   "source": [
    "### Mulitple Linear Regression"
   ]
  },
  {
   "cell_type": "code",
   "execution_count": null,
   "metadata": {},
   "outputs": [],
   "source": [
    "from sklearn.cross_validation import train_test_split\n",
    "\n"
   ]
  },
  {
   "cell_type": "code",
   "execution_count": null,
   "metadata": {},
   "outputs": [],
   "source": []
  },
  {
   "cell_type": "code",
   "execution_count": null,
   "metadata": {},
   "outputs": [],
   "source": []
  },
  {
   "cell_type": "code",
   "execution_count": null,
   "metadata": {},
   "outputs": [],
   "source": []
  },
  {
   "cell_type": "code",
   "execution_count": null,
   "metadata": {},
   "outputs": [],
   "source": []
  },
  {
   "cell_type": "code",
   "execution_count": 5,
   "metadata": {},
   "outputs": [
    {
     "data": {
      "text/plain": [
       "(array([  1.,   2.,   3.,  35., 676., 707.,  24.,   6.,   5.,   1.]),\n",
       " array([-1.76937285e+05, -1.41549828e+05, -1.06162371e+05, -7.07749139e+04,\n",
       "        -3.53874569e+04, -2.14204192e-08,  3.53874569e+04,  7.07749139e+04,\n",
       "         1.06162371e+05,  1.41549828e+05,  1.76937285e+05]),\n",
       " <a list of 10 Patch objects>)"
      ]
     },
     "execution_count": 5,
     "metadata": {},
     "output_type": "execute_result"
    },
    {
     "data": {
      "image/png": "[encoded data removed]",
      "text/plain": [
       "<Figure size 432x288 with 1 Axes>"
      ]
     },
     "metadata": {
      "needs_background": "light"
     },
     "output_type": "display_data"
    }
   ],
   "source": [
    "from sklearn.linear_model import LinearRegression\n",
    "\n",
    "lm = LinearRegression()\n",
    "lm.fit(features, salePrice)\n",
    "residuals = salePrice - lm.predict(features)\n",
    "plt.hist(residuals)"
   ]
  },
  {
   "cell_type": "code",
   "execution_count": 6,
   "metadata": {},
   "outputs": [
    {
     "name": "stdout",
     "output_type": "stream",
     "text": [
      "R^2 is equal to 0.934\n"
     ]
    }
   ],
   "source": [
    "print('R^2 is equal to %.3f' %(lm.score(features, salePrice)))\n",
    "# print('RSS is equal to %.3f' %(np.sum((salePrice - lm.predict(features))**2)))\n",
    "# print('The intercept is %.3f' %(lm.intercept_))\n",
    "# print('The slopes are %s' %(lm.coef_))"
   ]
  },
  {
   "cell_type": "code",
   "execution_count": 7,
   "metadata": {},
   "outputs": [
    {
     "data": {
      "text/plain": [
       "array([209761.42416396, 205033.93036472, 205097.82741042, ...,\n",
       "       275362.77960155, 142264.19406836, 150011.96085753])"
      ]
     },
     "execution_count": 7,
     "metadata": {},
     "output_type": "execute_result"
    }
   ],
   "source": [
    "predicted = lm.predict(features)\n",
    "predicted"
   ]
  },
  {
   "cell_type": "markdown",
   "metadata": {},
   "source": [
    "### Multiple Linear Regression - log(saleprice)"
   ]
  },
  {
   "cell_type": "code",
   "execution_count": 8,
   "metadata": {},
   "outputs": [
    {
     "data": {
      "text/plain": [
       "(array([  4.,   2.,   9.,  64., 604., 706.,  67.,   2.,   1.,   1.]),\n",
       " array([-6.91829548e-01, -5.53463638e-01, -4.15097729e-01, -2.76731819e-01,\n",
       "        -1.38365910e-01, -7.72715225e-14,  1.38365910e-01,  2.76731819e-01,\n",
       "         4.15097729e-01,  5.53463638e-01,  6.91829548e-01]),\n",
       " <a list of 10 Patch objects>)"
      ]
     },
     "execution_count": 8,
     "metadata": {},
     "output_type": "execute_result"
    },
    {
     "data": {
      "image/png": "[encoded data removed]",
      "text/plain": [
       "<Figure size 432x288 with 1 Axes>"
      ]
     },
     "metadata": {
      "needs_background": "light"
     },
     "output_type": "display_data"
    }
   ],
   "source": [
    "lm.fit(features, np.log(salePrice))\n",
    "residuals = np.log(salePrice) - lm.predict(features)\n",
    "plt.hist(residuals)"
   ]
  },
  {
   "cell_type": "code",
   "execution_count": 10,
   "metadata": {},
   "outputs": [
    {
     "name": "stdout",
     "output_type": "stream",
     "text": [
      "R^2 is equal to 0.944\n"
     ]
    }
   ],
   "source": [
    "print('R^2 is equal to %.3f' %(lm.score(features, np.log(salePrice))))\n",
    "# print('RSS is equal to %.3f' %(np.sum((np.log(salePrice) - lm.predict(features))**2)))\n",
    "# print('The intercept is %.3f' %(lm.intercept_))\n",
    "# print('The slopes are %s' %(lm.coef_))"
   ]
  },
  {
   "cell_type": "code",
   "execution_count": 9,
   "metadata": {},
   "outputs": [
    {
     "data": {
      "text/plain": [
       "array([206905.17838735, 200892.86952346, 213071.76155102, ...,\n",
       "       277462.10178503, 143882.04152363, 146159.20079763])"
      ]
     },
     "execution_count": 9,
     "metadata": {},
     "output_type": "execute_result"
    }
   ],
   "source": [
    "logpredicted = lm.predict(features)\n",
    "np.exp(logpredicted)"
   ]
  },
  {
   "cell_type": "markdown",
   "metadata": {},
   "source": [
    "### Feature Selection"
   ]
  },
  {
   "cell_type": "code",
   "execution_count": null,
   "metadata": {},
   "outputs": [],
   "source": []
  },
  {
   "cell_type": "markdown",
   "metadata": {},
   "source": [
    "### Significant Coefficients"
   ]
  },
  {
   "cell_type": "code",
   "execution_count": 15,
   "metadata": {},
   "outputs": [
    {
     "name": "stdout",
     "output_type": "stream",
     "text": [
      "                            OLS Regression Results                            \n",
      "==============================================================================\n",
      "Dep. Variable:              SalePrice   R-squared:                       0.944\n",
      "Model:                            OLS   Adj. R-squared:                  0.932\n",
      "Method:                 Least Squares   F-statistic:                     79.89\n",
      "Date:                Tue, 13 Nov 2018   Prob (F-statistic):               0.00\n",
      "Time:                        14:19:12   Log-Likelihood:                 1375.4\n",
      "No. Observations:                1460   AIC:                            -2239.\n",
      "Df Residuals:                    1204   BIC:                            -885.5\n",
      "Df Model:                         255                                         \n",
      "Covariance Type:            nonrobust                                         \n",
      "=========================================================================================\n",
      "                            coef    std err          t      P>|t|      [0.025      0.975]\n",
      "-----------------------------------------------------------------------------------------\n",
      "const                   -44.3469     23.350     -1.899      0.058     -90.157       1.464\n",
      "MSSubClass               -0.0004      0.000     -0.977      0.329      -0.001       0.000\n",
      "LotFrontage               0.0003      0.000      1.434      0.152      -0.000       0.001\n",
      "LotArea                2.893e-06   5.04e-07      5.742      0.000     1.9e-06    3.88e-06\n",
      "OverallQual               0.0417      0.005      8.925      0.000       0.033       0.051\n",
      "OverallCond               0.0362      0.004      9.010      0.000       0.028       0.044\n",
      "YearBuilt                 0.0018      0.000      4.964      0.000       0.001       0.002\n",
      "YearRemodAdd              0.0009      0.000      3.336      0.001       0.000       0.001\n",
      "MasVnrArea             8.131e-06   2.66e-05      0.305      0.760   -4.41e-05    6.04e-05\n",
      "BsmtFinSF1              5.29e-05   1.33e-05      3.980      0.000    2.68e-05     7.9e-05\n",
      "BsmtFinSF2             4.484e-05   2.75e-05      1.632      0.103   -9.07e-06    9.88e-05\n",
      "BsmtUnfSF             -3.305e-06   1.27e-05     -0.259      0.796   -2.83e-05    2.17e-05\n",
      "TotalBsmtSF            9.444e-05   1.87e-05      5.053      0.000    5.78e-05       0.000\n",
      "1stFlrSF               6.267e-05   2.94e-05      2.132      0.033    4.99e-06       0.000\n",
      "2ndFlrSF               6.075e-05   2.51e-05      2.417      0.016    1.14e-05       0.000\n",
      "LowQualFinSF           4.258e-05   6.41e-05      0.664      0.507   -8.32e-05       0.000\n",
      "GrLivArea                 0.0002   2.63e-05      6.322      0.000       0.000       0.000\n",
      "BsmtFullBath              0.0250      0.009      2.739      0.006       0.007       0.043\n",
      "BsmtHalfBath              0.0046      0.014      0.327      0.744      -0.023       0.032\n",
      "FullBath                  0.0197      0.010      1.939      0.053      -0.000       0.040\n",
      "HalfBath                  0.0236      0.010      2.440      0.015       0.005       0.043\n",
      "BedroomAbvGr              0.0061      0.006      0.979      0.328      -0.006       0.018\n",
      "KitchenAbvGr             -0.0435      0.026     -1.663      0.097      -0.095       0.008\n",
      "TotRmsAbvGrd              0.0043      0.004      0.970      0.332      -0.004       0.013\n",
      "Fireplaces                0.0130      0.012      1.102      0.271      -0.010       0.036\n",
      "GarageYrBlt              -0.0003      0.000     -1.147      0.252      -0.001       0.000\n",
      "GarageCars                0.0155      0.011      1.472      0.141      -0.005       0.036\n",
      "GarageArea                0.0001   3.64e-05      3.603      0.000    5.98e-05       0.000\n",
      "WoodDeckSF             9.757e-05   2.71e-05      3.606      0.000    4.45e-05       0.000\n",
      "OpenPorchSF            3.535e-05   5.33e-05      0.664      0.507   -6.91e-05       0.000\n",
      "EnclosedPorch             0.0001   5.75e-05      2.240      0.025     1.6e-05       0.000\n",
      "3SsnPorch                 0.0001      0.000      1.442      0.150   -5.38e-05       0.000\n",
      "ScreenPorch               0.0003   5.75e-05      4.829      0.000       0.000       0.000\n",
      "PoolArea                  0.0016      0.001      1.531      0.126      -0.000       0.004\n",
      "MiscVal               -8.817e-06   2.81e-05     -0.313      0.754    -6.4e-05    4.64e-05\n",
      "MoSold                   -0.0005      0.001     -0.389      0.697      -0.003       0.002\n",
      "YrSold                 6.948e-06   1.18e-05      0.591      0.554   -1.61e-05       3e-05\n",
      "Month                     0.0002      0.000      1.992      0.047    3.56e-06       0.000\n",
      "DJREI                    -0.0002      0.000     -1.652      0.099      -0.000    3.64e-05\n",
      "Fannie                    0.0118      0.011      1.061      0.289      -0.010       0.034\n",
      "LaborForce            -7.314e-06    4.5e-06     -1.627      0.104   -1.61e-05    1.51e-06\n",
      "UnemplRate               -0.0227      0.013     -1.750      0.080      -0.048       0.003\n",
      "Corn                     -0.0133      0.007     -1.860      0.063      -0.027       0.001\n",
      "MSZoning_FV               0.4440      0.055      8.028      0.000       0.335       0.552\n",
      "MSZoning_RH               0.4251      0.055      7.751      0.000       0.317       0.533\n",
      "MSZoning_RL               0.4198      0.047      8.906      0.000       0.327       0.512\n",
      "MSZoning_RM               0.3807      0.044      8.605      0.000       0.294       0.467\n",
      "Street_Pave               0.1020      0.056      1.816      0.070      -0.008       0.212\n",
      "Alley_None               -0.0100      0.019     -0.513      0.608      -0.048       0.028\n",
      "Alley_Pave                0.0149      0.028      0.535      0.592      -0.040       0.069\n",
      "LotShape_IR2              0.0264      0.019      1.360      0.174      -0.012       0.064\n",
      "LotShape_IR3              0.0189      0.041      0.464      0.643      -0.061       0.099\n",
      "LotShape_Reg              0.0075      0.007      1.019      0.309      -0.007       0.022\n",
      "LandContour_HLS           0.0243      0.024      1.028      0.304      -0.022       0.071\n",
      "LandContour_Low          -0.0179      0.029     -0.608      0.543      -0.075       0.040\n",
      "LandContour_Lvl           0.0255      0.017      1.497      0.135      -0.008       0.059\n",
      "Utilities_NoSeWa         -0.2287      0.122     -1.881      0.060      -0.467       0.010\n",
      "LotConfig_CulDSac         0.0264      0.015      1.737      0.083      -0.003       0.056\n",
      "LotConfig_FR2            -0.0369      0.018     -1.999      0.046      -0.073      -0.001\n",
      "LotConfig_FR3            -0.0885      0.058     -1.531      0.126      -0.202       0.025\n",
      "LotConfig_Inside         -0.0153      0.008     -1.855      0.064      -0.032       0.001\n",
      "LandSlope_Mod             0.0309      0.018      1.686      0.092      -0.005       0.067\n",
      "LandSlope_Sev            -0.1967      0.053     -3.745      0.000      -0.300      -0.094\n",
      "Neighborhood_Blueste     -0.0418      0.088     -0.472      0.637      -0.215       0.132\n",
      "Neighborhood_BrDale      -0.0744      0.050     -1.476      0.140      -0.173       0.025\n",
      "Neighborhood_BrkSide     -0.0057      0.044     -0.130      0.897      -0.091       0.080\n",
      "Neighborhood_ClearCr      0.0095      0.042      0.224      0.822      -0.074       0.093\n",
      "Neighborhood_CollgCr     -0.0294      0.033     -0.881      0.379      -0.095       0.036\n",
      "Neighborhood_Crawfor      0.1049      0.039      2.666      0.008       0.028       0.182\n",
      "Neighborhood_Edwards     -0.0958      0.037     -2.602      0.009      -0.168      -0.024\n",
      "Neighborhood_Gilbert     -0.0240      0.035     -0.679      0.497      -0.093       0.045\n",
      "Neighborhood_IDOTRR      -0.0425      0.049     -0.859      0.390      -0.140       0.055\n",
      "Neighborhood_MeadowV     -0.1755      0.052     -3.407      0.001      -0.277      -0.074\n",
      "Neighborhood_Mitchel     -0.0652      0.038     -1.732      0.084      -0.139       0.009\n",
      "Neighborhood_NAmes       -0.0497      0.036     -1.377      0.169      -0.121       0.021\n",
      "Neighborhood_NPkVill     -0.0016      0.065     -0.024      0.981      -0.128       0.125\n",
      "Neighborhood_NWAmes      -0.0529      0.037     -1.435      0.152      -0.125       0.019\n",
      "Neighborhood_NoRidge      0.0183      0.039      0.472      0.637      -0.058       0.095\n",
      "Neighborhood_NridgHt      0.0663      0.035      1.911      0.056      -0.002       0.134\n",
      "Neighborhood_OldTown     -0.0584      0.044     -1.312      0.190      -0.146       0.029\n",
      "Neighborhood_SWISU       -0.0118      0.045     -0.264      0.792      -0.099       0.076\n",
      "Neighborhood_Sawyer      -0.0386      0.037     -1.030      0.303      -0.112       0.035\n",
      "Neighborhood_SawyerW     -0.0145      0.036     -0.404      0.686      -0.085       0.056\n",
      "Neighborhood_Somerst      0.0076      0.042      0.184      0.854      -0.074       0.089\n",
      "Neighborhood_StoneBr      0.1253      0.038      3.276      0.001       0.050       0.200\n",
      "Neighborhood_Timber      -0.0055      0.037     -0.148      0.882      -0.079       0.068\n",
      "Neighborhood_Veenker      0.0335      0.048      0.693      0.488      -0.061       0.128\n",
      "Condition1_Feedr          0.0422      0.023      1.824      0.068      -0.003       0.088\n",
      "Condition1_Norm           0.0907      0.019      4.691      0.000       0.053       0.129\n",
      "Condition1_PosA           0.0325      0.046      0.704      0.482      -0.058       0.123\n",
      "Condition1_PosN           0.0892      0.034      2.606      0.009       0.022       0.156\n",
      "Condition1_RRAe          -0.0334      0.042     -0.800      0.424      -0.115       0.049\n",
      "Condition1_RRAn           0.0647      0.032      2.018      0.044       0.002       0.128\n",
      "Condition1_RRNe           0.0238      0.080      0.296      0.768      -0.134       0.182\n",
      "Condition1_RRNn           0.0924      0.059      1.565      0.118      -0.023       0.208\n",
      "Condition2_Feedr          0.1133      0.108      1.052      0.293      -0.098       0.324\n",
      "Condition2_Norm           0.0535      0.093      0.573      0.567      -0.130       0.237\n",
      "Condition2_PosA           0.2489      0.170      1.462      0.144      -0.085       0.583\n",
      "Condition2_PosN          -0.8205      0.127     -6.449      0.000      -1.070      -0.571\n",
      "Condition2_RRAe          -0.6429      0.299     -2.147      0.032      -1.230      -0.056\n",
      "Condition2_RRAn          -0.0515      0.145     -0.356      0.722      -0.336       0.233\n",
      "Condition2_RRNn           0.0433      0.124      0.348      0.728      -0.201       0.288\n",
      "BldgType_2fmCon           0.0461      0.057      0.803      0.422      -0.067       0.159\n",
      "BldgType_Duplex          -0.0024      0.034     -0.069      0.945      -0.069       0.065\n",
      "BldgType_Twnhs           -0.0490      0.046     -1.064      0.288      -0.139       0.041\n",
      "BldgType_TwnhsE          -0.0124      0.042     -0.298      0.766      -0.094       0.069\n",
      "HouseStyle_1.5Unf         0.0087      0.037      0.237      0.812      -0.063       0.080\n",
      "HouseStyle_1Story        -0.0282      0.020     -1.396      0.163      -0.068       0.011\n",
      "HouseStyle_2.5Fin        -0.0993      0.057     -1.743      0.082      -0.211       0.012\n",
      "HouseStyle_2.5Unf         0.0292      0.043      0.687      0.492      -0.054       0.113\n",
      "HouseStyle_2Story        -0.0243      0.016     -1.508      0.132      -0.056       0.007\n",
      "HouseStyle_SFoyer        -0.0097      0.029     -0.338      0.735      -0.066       0.047\n",
      "HouseStyle_SLvl          -0.0027      0.026     -0.107      0.915      -0.053       0.047\n",
      "RoofStyle_Gable           0.0190      0.085      0.223      0.823      -0.148       0.186\n",
      "RoofStyle_Gambrel         0.0133      0.093      0.143      0.887      -0.169       0.196\n",
      "RoofStyle_Hip             0.0213      0.085      0.250      0.802      -0.146       0.189\n",
      "RoofStyle_Mansard         0.0720      0.098      0.731      0.465      -0.121       0.265\n",
      "RoofStyle_Shed            0.4584      0.159      2.885      0.004       0.147       0.770\n",
      "RoofMatl_CompShg          2.5983      0.243     10.682      0.000       2.121       3.076\n",
      "RoofMatl_Membran          3.0184      0.289     10.450      0.000       2.452       3.585\n",
      "RoofMatl_Metal            2.9044      0.287     10.111      0.000       2.341       3.468\n",
      "RoofMatl_Roll             2.6052      0.269      9.690      0.000       2.078       3.133\n",
      "RoofMatl_Tar&Grv          2.6198      0.261     10.032      0.000       2.107       3.132\n",
      "RoofMatl_WdShake          2.5416      0.254     10.016      0.000       2.044       3.039\n",
      "RoofMatl_WdShngl          2.6614      0.248     10.732      0.000       2.175       3.148\n",
      "Exterior1st_AsphShn      -0.0345      0.152     -0.227      0.820      -0.333       0.263\n",
      "Exterior1st_BrkComm      -0.2195      0.128     -1.716      0.086      -0.471       0.031\n",
      "Exterior1st_BrkFace       0.0707      0.059      1.203      0.229      -0.045       0.186\n",
      "Exterior1st_CBlock       -0.0338      0.063     -0.538      0.591      -0.157       0.089\n",
      "Exterior1st_CemntBd      -0.1035      0.088     -1.181      0.238      -0.275       0.068\n",
      "Exterior1st_HdBoard      -0.0307      0.060     -0.515      0.606      -0.148       0.086\n",
      "Exterior1st_ImStucc       0.0103      0.130      0.079      0.937      -0.244       0.265\n",
      "Exterior1st_MetalSd       0.0332      0.067      0.494      0.622      -0.099       0.165\n",
      "Exterior1st_Plywood      -0.0252      0.059     -0.429      0.668      -0.141       0.090\n",
      "Exterior1st_Stone         0.0010      0.112      0.009      0.993      -0.218       0.220\n",
      "Exterior1st_Stucco        0.0008      0.065      0.013      0.990      -0.127       0.128\n",
      "Exterior1st_VinylSd      -0.0227      0.061     -0.369      0.712      -0.143       0.098\n",
      "Exterior1st_Wd Sdng      -0.0584      0.057     -1.024      0.306      -0.170       0.053\n",
      "Exterior1st_WdShing      -0.0167      0.062     -0.271      0.786      -0.137       0.104\n",
      "Exterior2nd_AsphShn       0.0772      0.102      0.756      0.450      -0.123       0.278\n",
      "Exterior2nd_Brk Cmn       0.0612      0.092      0.662      0.508      -0.120       0.243\n",
      "Exterior2nd_BrkFace      -0.0120      0.061     -0.197      0.844      -0.131       0.107\n",
      "Exterior2nd_CBlock       -0.0338      0.063     -0.538      0.591      -0.157       0.089\n",
      "Exterior2nd_CmentBd       0.1561      0.086      1.813      0.070      -0.013       0.325\n",
      "Exterior2nd_HdBoard       0.0446      0.057      0.780      0.435      -0.068       0.157\n",
      "Exterior2nd_ImStucc       0.0518      0.066      0.784      0.433      -0.078       0.181\n",
      "Exterior2nd_MetalSd       0.0099      0.065      0.151      0.880      -0.118       0.138\n",
      "Exterior2nd_Other        -0.0595      0.125     -0.477      0.633      -0.304       0.185\n",
      "Exterior2nd_Plywood       0.0449      0.056      0.808      0.419      -0.064       0.154\n",
      "Exterior2nd_Stone        -0.0184      0.079     -0.233      0.816      -0.173       0.136\n",
      "Exterior2nd_Stucco        0.0444      0.063      0.709      0.479      -0.079       0.168\n",
      "Exterior2nd_VinylSd       0.0623      0.059      1.056      0.291      -0.053       0.178\n",
      "Exterior2nd_Wd Sdng       0.0804      0.055      1.460      0.144      -0.028       0.188\n",
      "Exterior2nd_Wd Shng       0.0422      0.057      0.735      0.462      -0.070       0.155\n",
      "MasVnrType_BrkFace        0.0357      0.031      1.137      0.256      -0.026       0.097\n",
      "MasVnrType_None           0.0268      0.032      0.843      0.399      -0.036       0.089\n",
      "MasVnrType_Stone          0.0448      0.033      1.347      0.178      -0.020       0.110\n",
      "ExterQual_Fa              0.0193      0.051      0.379      0.705      -0.081       0.119\n",
      "ExterQual_Gd              0.0016      0.022      0.075      0.941      -0.042       0.045\n",
      "ExterQual_TA              0.0102      0.024      0.420      0.675      -0.038       0.058\n",
      "ExterCond_Fa             -0.1076      0.083     -1.292      0.196      -0.271       0.056\n",
      "ExterCond_Gd             -0.0870      0.079     -1.096      0.273      -0.243       0.069\n",
      "ExterCond_Po             -0.0557      0.146     -0.382      0.702      -0.342       0.230\n",
      "ExterCond_TA             -0.0644      0.079     -0.812      0.417      -0.220       0.091\n",
      "Foundation_CBlock         0.0203      0.015      1.392      0.164      -0.008       0.049\n",
      "Foundation_PConc          0.0386      0.016      2.455      0.014       0.008       0.069\n",
      "Foundation_Slab          -0.0235      0.046     -0.508      0.612      -0.114       0.067\n",
      "Foundation_Stone          0.1054      0.053      2.006      0.045       0.002       0.208\n",
      "Foundation_Wood          -0.1249      0.068     -1.831      0.067      -0.259       0.009\n",
      "BsmtQual_Fa              -0.0245      0.029     -0.840      0.401      -0.082       0.033\n",
      "BsmtQual_Gd              -0.0285      0.015     -1.858      0.063      -0.059       0.002\n",
      "BsmtQual_No               0.0486      0.044      1.110      0.267      -0.037       0.134\n",
      "BsmtQual_TA              -0.0309      0.019     -1.621      0.105      -0.068       0.007\n",
      "BsmtCond_Gd               0.0289      0.024      1.189      0.235      -0.019       0.077\n",
      "BsmtCond_No               0.0486      0.044      1.110      0.267      -0.037       0.134\n",
      "BsmtCond_Po               0.3068      0.138      2.230      0.026       0.037       0.577\n",
      "BsmtCond_TA               0.0244      0.020      1.247      0.213      -0.014       0.063\n",
      "BsmtExposure_Gd           0.0315      0.014      2.280      0.023       0.004       0.059\n",
      "BsmtExposure_Mn          -0.0059      0.014     -0.426      0.670      -0.033       0.021\n",
      "BsmtExposure_No          -0.0101      0.010     -1.009      0.313      -0.030       0.010\n",
      "BsmtFinType1_BLQ         -0.0017      0.013     -0.132      0.895      -0.027       0.024\n",
      "BsmtFinType1_GLQ          0.0134      0.012      1.154      0.249      -0.009       0.036\n",
      "BsmtFinType1_LwQ         -0.0264      0.017     -1.530      0.126      -0.060       0.007\n",
      "BsmtFinType1_No           0.0486      0.044      1.110      0.267      -0.037       0.134\n",
      "BsmtFinType1_Rec         -0.0082      0.014     -0.592      0.554      -0.035       0.019\n",
      "BsmtFinType1_Unf         -0.0122      0.013     -0.910      0.363      -0.038       0.014\n",
      "BsmtFinType2_BLQ         -0.0740      0.035     -2.121      0.034      -0.142      -0.006\n",
      "BsmtFinType2_GLQ          0.0030      0.043      0.070      0.944      -0.081       0.087\n",
      "BsmtFinType2_LwQ         -0.0373      0.034     -1.094      0.274      -0.104       0.030\n",
      "BsmtFinType2_No          -0.1626      0.115     -1.411      0.159      -0.389       0.064\n",
      "BsmtFinType2_Rec         -0.0372      0.033     -1.135      0.257      -0.102       0.027\n",
      "BsmtFinType2_Unf         -0.0226      0.035     -0.648      0.517      -0.091       0.046\n",
      "Heating_GasA              0.1386      0.118      1.177      0.239      -0.092       0.370\n",
      "Heating_GasW              0.2059      0.121      1.696      0.090      -0.032       0.444\n",
      "Heating_Grav             -0.0399      0.129     -0.309      0.758      -0.293       0.214\n",
      "Heating_OthW              0.1677      0.145      1.155      0.248      -0.117       0.452\n",
      "Heating_Wall              0.2167      0.137      1.580      0.114      -0.052       0.486\n",
      "HeatingQC_Fa             -0.0171      0.022     -0.788      0.431      -0.060       0.026\n",
      "HeatingQC_Gd             -0.0200      0.010     -2.099      0.036      -0.039      -0.001\n",
      "HeatingQC_Po             -0.0962      0.122     -0.787      0.431      -0.336       0.144\n",
      "HeatingQC_TA             -0.0332      0.010     -3.488      0.001      -0.052      -0.015\n",
      "CentralAir_Y              0.0606      0.018      3.389      0.001       0.026       0.096\n",
      "Electrical_FuseF         -0.0076      0.026     -0.287      0.775      -0.060       0.044\n",
      "Electrical_FuseP         -0.0974      0.086     -1.135      0.257      -0.266       0.071\n",
      "Electrical_Mix           -0.2474      0.205     -1.208      0.227      -0.649       0.154\n",
      "Electrical_SBrkr         -0.0153      0.014     -1.123      0.261      -0.042       0.011\n",
      "KitchenQual_Fa           -0.0571      0.029     -1.998      0.046      -0.113      -0.001\n",
      "KitchenQual_Gd           -0.0664      0.016     -4.147      0.000      -0.098      -0.035\n",
      "KitchenQual_TA           -0.0661      0.018     -3.661      0.000      -0.101      -0.031\n",
      "Functional_Maj2          -0.2578      0.066     -3.896      0.000      -0.388      -0.128\n",
      "Functional_Min1           0.0395      0.040      0.998      0.318      -0.038       0.117\n",
      "Functional_Min2           0.0257      0.040      0.646      0.518      -0.052       0.104\n",
      "Functional_Mod           -0.0629      0.049     -1.297      0.195      -0.158       0.032\n",
      "Functional_Sev           -0.2906      0.136     -2.136      0.033      -0.558      -0.024\n",
      "Functional_Typ            0.0616      0.034      1.796      0.073      -0.006       0.129\n",
      "FireplaceQu_Fa           -0.0092      0.032     -0.291      0.771      -0.071       0.053\n",
      "FireplaceQu_Gd            0.0188      0.024      0.769      0.442      -0.029       0.067\n",
      "FireplaceQu_No            0.0024      0.029      0.084      0.933      -0.054       0.059\n",
      "FireplaceQu_Po            0.0381      0.036      1.048      0.295      -0.033       0.110\n",
      "FireplaceQu_TA            0.0201      0.025      0.792      0.428      -0.030       0.070\n",
      "GarageType_Attchd         0.1137      0.051      2.241      0.025       0.014       0.213\n",
      "GarageType_Basment        0.1113      0.059      1.896      0.058      -0.004       0.227\n",
      "GarageType_BuiltIn        0.0995      0.053      1.881      0.060      -0.004       0.203\n",
      "GarageType_CarPort        0.1407      0.068      2.080      0.038       0.008       0.273\n",
      "GarageType_Detchd         0.1122      0.051      2.210      0.027       0.013       0.212\n",
      "GarageType_No            -0.1504      0.141     -1.070      0.285      -0.426       0.125\n",
      "GarageFinish_No          -0.1504      0.141     -1.070      0.285      -0.426       0.125\n",
      "GarageFinish_RFn          0.0026      0.009      0.287      0.774      -0.015       0.020\n",
      "GarageFinish_Unf         -0.0097      0.011     -0.873      0.383      -0.032       0.012\n",
      "GarageQual_Fa            -0.3786      0.139     -2.725      0.007      -0.651      -0.106\n",
      "GarageQual_Gd            -0.3190      0.143     -2.237      0.025      -0.599      -0.039\n",
      "GarageQual_No            -0.1504      0.141     -1.070      0.285      -0.426       0.125\n",
      "GarageQual_Po            -0.4163      0.177     -2.352      0.019      -0.764      -0.069\n",
      "GarageQual_TA            -0.3233      0.138     -2.349      0.019      -0.593      -0.053\n",
      "GarageCond_Fa             0.2684      0.160      1.673      0.095      -0.046       0.583\n",
      "GarageCond_Gd             0.2980      0.166      1.790      0.074      -0.029       0.625\n",
      "GarageCond_No            -0.1504      0.141     -1.070      0.285      -0.426       0.125\n",
      "GarageCond_Po             0.4302      0.172      2.499      0.013       0.092       0.768\n",
      "GarageCond_TA             0.2897      0.159      1.821      0.069      -0.022       0.602\n",
      "PavedDrive_P             -0.0154      0.026     -0.601      0.548      -0.066       0.035\n",
      "PavedDrive_Y              0.0125      0.016      0.787      0.432      -0.019       0.044\n",
      "PoolQC_Fa                -0.1102      0.188     -0.585      0.558      -0.479       0.259\n",
      "PoolQC_Gd                 0.0437      0.170      0.257      0.797      -0.289       0.377\n",
      "PoolQC_No                 0.8372      0.566      1.480      0.139      -0.272       1.947\n",
      "Fence_GdWo               -0.0240      0.023     -1.066      0.287      -0.068       0.020\n",
      "Fence_MnPrv               0.0046      0.018      0.252      0.801      -0.032       0.041\n",
      "Fence_MnWw               -0.0076      0.038     -0.201      0.841      -0.082       0.067\n",
      "Fence_No                  0.0155      0.017      0.916      0.360      -0.018       0.049\n",
      "MiscFeature_No           -0.1863      0.447     -0.416      0.677      -1.064       0.692\n",
      "MiscFeature_Othr         -0.2192      0.418     -0.525      0.600      -1.039       0.600\n",
      "MiscFeature_Shed         -0.1870      0.429     -0.436      0.663      -1.028       0.654\n",
      "MiscFeature_TenC         -0.2150      0.445     -0.483      0.629      -1.088       0.658\n",
      "SaleType_CWD              0.0543      0.059      0.918      0.359      -0.062       0.170\n",
      "SaleType_Con              0.1043      0.081      1.293      0.196      -0.054       0.263\n",
      "SaleType_ConLD            0.1313      0.045      2.943      0.003       0.044       0.219\n",
      "SaleType_ConLI           -0.0235      0.053     -0.439      0.661      -0.128       0.081\n",
      "SaleType_ConLw            0.0241      0.056      0.431      0.667      -0.086       0.134\n",
      "SaleType_New              0.0705      0.071      0.993      0.321      -0.069       0.210\n",
      "SaleType_Oth              0.0630      0.067      0.945      0.345      -0.068       0.194\n",
      "SaleType_WD              -0.0145      0.019     -0.751      0.453      -0.052       0.023\n",
      "SaleCondition_AdjLand     0.1196      0.067      1.780      0.075      -0.012       0.251\n",
      "SaleCondition_Alloca      0.0424      0.041      1.036      0.300      -0.038       0.123\n",
      "SaleCondition_Family      0.0155      0.028      0.552      0.581      -0.039       0.070\n",
      "SaleCondition_Normal      0.0598      0.013      4.452      0.000       0.033       0.086\n",
      "SaleCondition_Partial     0.0199      0.068      0.291      0.771      -0.114       0.154\n",
      "==============================================================================\n",
      "Omnibus:                      377.307   Durbin-Watson:                   1.898\n",
      "Prob(Omnibus):                  0.000   Jarque-Bera (JB):             5128.220\n",
      "Skew:                          -0.811   Prob(JB):                         0.00\n",
      "Kurtosis:                      12.037   Cond. No.                     1.75e+17\n",
      "==============================================================================\n",
      "\n",
      "Warnings:\n",
      "[1] Standard Errors assume that the covariance matrix of the errors is correctly specified.\n",
      "[2] The smallest eigenvalue is 2.04e-21. This might indicate that there are\n",
      "strong multicollinearity problems or that the design matrix is singular.\n"
     ]
    }
   ],
   "source": [
    "import statsmodels.api as sm\n",
    "x = sm.add_constant(features)\n",
    "# Notice that the dependent variable (y) comes before the independent variables (x)\n",
    "# Use df.columns.values to get all the column names\n",
    "model = sm.OLS(np.log(salePrice), x)\n",
    "results = model.fit()\n",
    "print(results.summary())"
   ]
  },
  {
   "cell_type": "code",
   "execution_count": 16,
   "metadata": {},
   "outputs": [],
   "source": [
    "pValues = results.pvalues\n",
    "sigCoef = pValues[pValues<0.05]"
   ]
  },
  {
   "cell_type": "code",
   "execution_count": null,
   "metadata": {},
   "outputs": [],
   "source": []
  },
  {
   "cell_type": "code",
   "execution_count": null,
   "metadata": {},
   "outputs": [],
   "source": []
  },
  {
   "cell_type": "code",
   "execution_count": null,
   "metadata": {},
   "outputs": [],
   "source": []
  },
  {
   "cell_type": "code",
   "execution_count": null,
   "metadata": {},
   "outputs": [],
   "source": []
  },
  {
   "cell_type": "code",
   "execution_count": null,
   "metadata": {},
   "outputs": [],
   "source": []
  },
  {
   "cell_type": "code",
   "execution_count": null,
   "metadata": {},
   "outputs": [],
   "source": []
  },
  {
   "cell_type": "code",
   "execution_count": null,
   "metadata": {},
   "outputs": [],
   "source": []
  }
 ],
 "metadata": {
  "kernelspec": {
   "display_name": "Python 3",
   "language": "python",
   "name": "python3"
  },
  "language_info": {
   "codemirror_mode": {
    "name": "ipython",
    "version": 3
   },
   "file_extension": ".py",
   "mimetype": "text/x-python",
   "name": "python",
   "nbconvert_exporter": "python",
   "pygments_lexer": "ipython3",
   "version": "3.7.0"
  }
 },
 "nbformat": 4,
 "nbformat_minor": 2
}
