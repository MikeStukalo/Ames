{
 "cells": [
  {
   "cell_type": "markdown",
   "metadata": {},
   "source": [
    "## Data compilation"
   ]
  },
  {
   "cell_type": "code",
   "execution_count": 1,
   "metadata": {},
   "outputs": [],
   "source": [
    "import pandas as pd\n",
    "import numpy as np\n",
    "import pickle\n",
    "import matplotlib.pyplot as plt\n",
    "import matplotlib\n",
    "from scipy.stats import skew\n",
    "from sklearn.preprocessing import normalize\n",
    "\n",
    "plt.style.use('ggplot')"
   ]
  },
  {
   "cell_type": "markdown",
   "metadata": {},
   "source": [
    "## Combining dataset"
   ]
  },
  {
   "cell_type": "markdown",
   "metadata": {},
   "source": [
    "We combine together training and test datasets, so that we can use the same variables and imputation methods across both dataset. We assign home price (SalePrice) values for test dataset at $99. This way we can separate datasets on next steps."
   ]
  },
  {
   "cell_type": "code",
   "execution_count": 2,
   "metadata": {},
   "outputs": [
    {
     "data": {
      "text/plain": [
       "(1460, 81)"
      ]
     },
     "execution_count": 2,
     "metadata": {},
     "output_type": "execute_result"
    }
   ],
   "source": [
    "train = pd.read_csv(\"./data/train.csv\")\n",
    "train.shape"
   ]
  },
  {
   "cell_type": "code",
   "execution_count": 3,
   "metadata": {},
   "outputs": [
    {
     "data": {
      "text/plain": [
       "(1459, 80)"
      ]
     },
     "execution_count": 3,
     "metadata": {},
     "output_type": "execute_result"
    }
   ],
   "source": [
    "test = pd.read_csv(\"./data/test.csv\")\n",
    "test.shape"
   ]
  },
  {
   "cell_type": "code",
   "execution_count": 4,
   "metadata": {},
   "outputs": [
    {
     "data": {
      "text/plain": [
       "(1459, 81)"
      ]
     },
     "execution_count": 4,
     "metadata": {},
     "output_type": "execute_result"
    }
   ],
   "source": [
    "# Add SalePrice = 99 to test set\n",
    "test['SalePrice'] = 99\n",
    "test.shape"
   ]
  },
  {
   "cell_type": "code",
   "execution_count": 5,
   "metadata": {},
   "outputs": [
    {
     "data": {
      "text/plain": [
       "(2919, 81)"
      ]
     },
     "execution_count": 5,
     "metadata": {},
     "output_type": "execute_result"
    }
   ],
   "source": [
    "# Get a combined dataset\n",
    "dataset = test.append(train)\n",
    "dataset.shape"
   ]
  },
  {
   "cell_type": "markdown",
   "metadata": {},
   "source": [
    "We also create a variable Month that is equal to year*100+month. It will help us to join time series later"
   ]
  },
  {
   "cell_type": "code",
   "execution_count": 6,
   "metadata": {},
   "outputs": [
    {
     "data": {
      "text/plain": [
       "0    201006\n",
       "1    201006\n",
       "2    201003\n",
       "3    201006\n",
       "4    201001\n",
       "Name: Month, dtype: int64"
      ]
     },
     "execution_count": 6,
     "metadata": {},
     "output_type": "execute_result"
    }
   ],
   "source": [
    "dataset['Month'] = dataset['YrSold'] * 100 + dataset['MoSold']\n",
    "dataset.Month.head()"
   ]
  },
  {
   "cell_type": "code",
   "execution_count": 7,
   "metadata": {},
   "outputs": [],
   "source": [
    "# Save the dataset\n",
    "dataset.to_csv(\"./data/dataset.csv\", index=False)"
   ]
  },
  {
   "cell_type": "markdown",
   "metadata": {},
   "source": [
    "## Merging with time-series datasets"
   ]
  },
  {
   "cell_type": "markdown",
   "metadata": {},
   "source": [
    "We are adding the following variables that may explain dynamics of housing prices:\n",
    "\n",
    "* Dow Jones Real Estate index (lagged by one month)\n",
    "\n",
    "* Fannie Mae mortgage rates (lagged)\n",
    "\n",
    "* Labor force and Unemployment rate in Ames (lagged)"
   ]
  },
  {
   "cell_type": "code",
   "execution_count": 8,
   "metadata": {},
   "outputs": [],
   "source": [
    "dataset = pd.read_csv('./data/dataset.csv')"
   ]
  },
  {
   "cell_type": "code",
   "execution_count": 9,
   "metadata": {},
   "outputs": [],
   "source": [
    "# A helper function that creates Month variable\n",
    "def createMonth(date):\n",
    "    '''\n",
    "    A helper function that takes a date and returns an integer YYYYMM\n",
    "    '''\n",
    "    year = int(date.strftime('%Y'))\n",
    "    month = int(date.strftime('%m'))\n",
    "    \n",
    "    return (year*100 +month)\n",
    "\n",
    "# Dow Jones Real estate index\n",
    "djre = pd.read_csv(\"./data/djre.csv\", parse_dates=True)\n",
    "\n",
    "djre['Date'] = pd.to_datetime(djre['Date']) #Convert to datetime\n",
    "\n",
    "djre['Month'] = djre['Date'].apply(lambda x: createMonth(x))\n",
    "djre = djre.groupby('Month').last().reset_index() # Keep end of month observation\n",
    "djre.set_index('Date', inplace=True) # Set date index to use shift method later\n",
    "\n",
    "djre = djre.shift(1) #Create a lagged variable\n",
    "\n",
    "# fannie mae mortgage rates \n",
    "fannie = pd.read_csv('./data/FannieMaeRates.csv', parse_dates=True)\n",
    "\n",
    "fannie['Date'] = pd.to_datetime(fannie['Date']) #Convert to datetime\n",
    "\n",
    "fannie['Month'] = fannie['Date'].apply(lambda x: createMonth(x))\n",
    "fannie = fannie.groupby('Month').last().reset_index() # Keep end of month observation\n",
    "fannie.set_index('Date', inplace=True) # Set date index to use shift method later\n",
    "\n",
    "fannie = fannie.shift(1) #Create a lagged variable\n",
    "fannie.columns = ['Month', 'Fannie']\n",
    "\n",
    "\n",
    "# Ames unemployment rate\n",
    "unempl = pd.read_csv(\"./data/unempl.csv\", parse_dates=True)\n",
    "\n",
    "unempl['Month'] = unempl['Year']*100 + unempl['Month']\n",
    "unempl['Date'] = pd.to_datetime(unempl['Month'], format='%Y%m') # Still need date to create lagged\n",
    "unempl.drop(['Year', 'employment', 'unemployment'], axis=1, inplace=True)\n",
    "\n",
    "unempl.set_index('Date', inplace=True) # Set date index to use shift method later\n",
    "\n",
    "unempl = unempl.shift(1) #Create a lagged variable\n",
    "unempl.columns = ['Month', 'LaborForce', 'UnemplRate']\n",
    "\n",
    "# trailing 250 days corn prices\n",
    "corn = pd.read_csv('./data/corn.csv')\n",
    "corn['date'] = pd.to_datetime(corn['date']) #Convert to datetime\n",
    "corn.set_index('date', inplace=True)\n",
    "corn['corn'] = corn['corn'].rolling(window = 250, min_periods=250).mean() #Calculaet rolling mean price\n",
    "corn = corn.loc['2000-01-01':,].reset_index()\n",
    "\n",
    "corn['Month'] = corn['date'].apply(lambda x: createMonth(x))\n",
    "corn = corn.groupby('Month').last().reset_index() # Keep end of month observation\n",
    "corn.set_index('date', inplace=True) # Set date index to use shift method later\n",
    "\n",
    "corn = corn.shift(1) #Create a lagged variable\n",
    "corn.columns = ['Month', 'Corn']\n",
    "\n",
    "\n",
    "# Combine with the dataset\n",
    "dataset = pd.merge(dataset, djre, on='Month', how='left')\n",
    "dataset = pd.merge(dataset, fannie, on='Month', how='left')\n",
    "dataset = pd.merge(dataset, unempl, on='Month', how='left')\n",
    "dataset = pd.merge(dataset, corn, on='Month', how='left')\n",
    "\n",
    "\n",
    "\n"
   ]
  },
  {
   "cell_type": "code",
   "execution_count": 10,
   "metadata": {},
   "outputs": [
    {
     "data": {
      "text/html": [
       "<div>\n",
       "<style scoped>\n",
       "    .dataframe tbody tr th:only-of-type {\n",
       "        vertical-align: middle;\n",
       "    }\n",
       "\n",
       "    .dataframe tbody tr th {\n",
       "        vertical-align: top;\n",
       "    }\n",
       "\n",
       "    .dataframe thead th {\n",
       "        text-align: right;\n",
       "    }\n",
       "</style>\n",
       "<table border=\"1\" class=\"dataframe\">\n",
       "  <thead>\n",
       "    <tr style=\"text-align: right;\">\n",
       "      <th></th>\n",
       "      <th>Id</th>\n",
       "      <th>MSSubClass</th>\n",
       "      <th>MSZoning</th>\n",
       "      <th>LotFrontage</th>\n",
       "      <th>LotArea</th>\n",
       "      <th>Street</th>\n",
       "      <th>Alley</th>\n",
       "      <th>LotShape</th>\n",
       "      <th>LandContour</th>\n",
       "      <th>Utilities</th>\n",
       "      <th>...</th>\n",
       "      <th>YrSold</th>\n",
       "      <th>SaleType</th>\n",
       "      <th>SaleCondition</th>\n",
       "      <th>SalePrice</th>\n",
       "      <th>Month</th>\n",
       "      <th>DJREI</th>\n",
       "      <th>Fannie</th>\n",
       "      <th>LaborForce</th>\n",
       "      <th>UnemplRate</th>\n",
       "      <th>Corn</th>\n",
       "    </tr>\n",
       "  </thead>\n",
       "  <tbody>\n",
       "    <tr>\n",
       "      <th>0</th>\n",
       "      <td>1461</td>\n",
       "      <td>20</td>\n",
       "      <td>RH</td>\n",
       "      <td>80.0</td>\n",
       "      <td>11622</td>\n",
       "      <td>Pave</td>\n",
       "      <td>NaN</td>\n",
       "      <td>Reg</td>\n",
       "      <td>Lvl</td>\n",
       "      <td>AllPub</td>\n",
       "      <td>...</td>\n",
       "      <td>2010</td>\n",
       "      <td>WD</td>\n",
       "      <td>Normal</td>\n",
       "      <td>99</td>\n",
       "      <td>201006</td>\n",
       "      <td>183.00</td>\n",
       "      <td>4.561</td>\n",
       "      <td>51950.0</td>\n",
       "      <td>4.7</td>\n",
       "      <td>3.610178</td>\n",
       "    </tr>\n",
       "    <tr>\n",
       "      <th>1</th>\n",
       "      <td>1462</td>\n",
       "      <td>20</td>\n",
       "      <td>RL</td>\n",
       "      <td>81.0</td>\n",
       "      <td>14267</td>\n",
       "      <td>Pave</td>\n",
       "      <td>NaN</td>\n",
       "      <td>IR1</td>\n",
       "      <td>Lvl</td>\n",
       "      <td>AllPub</td>\n",
       "      <td>...</td>\n",
       "      <td>2010</td>\n",
       "      <td>WD</td>\n",
       "      <td>Normal</td>\n",
       "      <td>99</td>\n",
       "      <td>201006</td>\n",
       "      <td>183.00</td>\n",
       "      <td>4.561</td>\n",
       "      <td>51950.0</td>\n",
       "      <td>4.7</td>\n",
       "      <td>3.610178</td>\n",
       "    </tr>\n",
       "    <tr>\n",
       "      <th>2</th>\n",
       "      <td>1463</td>\n",
       "      <td>60</td>\n",
       "      <td>RL</td>\n",
       "      <td>74.0</td>\n",
       "      <td>13830</td>\n",
       "      <td>Pave</td>\n",
       "      <td>NaN</td>\n",
       "      <td>IR1</td>\n",
       "      <td>Lvl</td>\n",
       "      <td>AllPub</td>\n",
       "      <td>...</td>\n",
       "      <td>2010</td>\n",
       "      <td>WD</td>\n",
       "      <td>Normal</td>\n",
       "      <td>99</td>\n",
       "      <td>201003</td>\n",
       "      <td>193.37</td>\n",
       "      <td>4.762</td>\n",
       "      <td>53639.0</td>\n",
       "      <td>4.6</td>\n",
       "      <td>3.734616</td>\n",
       "    </tr>\n",
       "    <tr>\n",
       "      <th>3</th>\n",
       "      <td>1464</td>\n",
       "      <td>60</td>\n",
       "      <td>RL</td>\n",
       "      <td>78.0</td>\n",
       "      <td>9978</td>\n",
       "      <td>Pave</td>\n",
       "      <td>NaN</td>\n",
       "      <td>IR1</td>\n",
       "      <td>Lvl</td>\n",
       "      <td>AllPub</td>\n",
       "      <td>...</td>\n",
       "      <td>2010</td>\n",
       "      <td>WD</td>\n",
       "      <td>Normal</td>\n",
       "      <td>99</td>\n",
       "      <td>201006</td>\n",
       "      <td>183.00</td>\n",
       "      <td>4.561</td>\n",
       "      <td>51950.0</td>\n",
       "      <td>4.7</td>\n",
       "      <td>3.610178</td>\n",
       "    </tr>\n",
       "    <tr>\n",
       "      <th>4</th>\n",
       "      <td>1465</td>\n",
       "      <td>120</td>\n",
       "      <td>RL</td>\n",
       "      <td>43.0</td>\n",
       "      <td>5005</td>\n",
       "      <td>Pave</td>\n",
       "      <td>NaN</td>\n",
       "      <td>IR1</td>\n",
       "      <td>HLS</td>\n",
       "      <td>AllPub</td>\n",
       "      <td>...</td>\n",
       "      <td>2010</td>\n",
       "      <td>WD</td>\n",
       "      <td>Normal</td>\n",
       "      <td>99</td>\n",
       "      <td>201001</td>\n",
       "      <td>168.83</td>\n",
       "      <td>4.993</td>\n",
       "      <td>52631.0</td>\n",
       "      <td>4.8</td>\n",
       "      <td>3.746940</td>\n",
       "    </tr>\n",
       "  </tbody>\n",
       "</table>\n",
       "<p>5 rows × 87 columns</p>\n",
       "</div>"
      ],
      "text/plain": [
       "     Id  MSSubClass MSZoning  LotFrontage  LotArea Street Alley LotShape  \\\n",
       "0  1461          20       RH         80.0    11622   Pave   NaN      Reg   \n",
       "1  1462          20       RL         81.0    14267   Pave   NaN      IR1   \n",
       "2  1463          60       RL         74.0    13830   Pave   NaN      IR1   \n",
       "3  1464          60       RL         78.0     9978   Pave   NaN      IR1   \n",
       "4  1465         120       RL         43.0     5005   Pave   NaN      IR1   \n",
       "\n",
       "  LandContour Utilities    ...    YrSold SaleType SaleCondition SalePrice  \\\n",
       "0         Lvl    AllPub    ...      2010       WD        Normal        99   \n",
       "1         Lvl    AllPub    ...      2010       WD        Normal        99   \n",
       "2         Lvl    AllPub    ...      2010       WD        Normal        99   \n",
       "3         Lvl    AllPub    ...      2010       WD        Normal        99   \n",
       "4         HLS    AllPub    ...      2010       WD        Normal        99   \n",
       "\n",
       "    Month   DJREI Fannie  LaborForce  UnemplRate      Corn  \n",
       "0  201006  183.00  4.561     51950.0         4.7  3.610178  \n",
       "1  201006  183.00  4.561     51950.0         4.7  3.610178  \n",
       "2  201003  193.37  4.762     53639.0         4.6  3.734616  \n",
       "3  201006  183.00  4.561     51950.0         4.7  3.610178  \n",
       "4  201001  168.83  4.993     52631.0         4.8  3.746940  \n",
       "\n",
       "[5 rows x 87 columns]"
      ]
     },
     "execution_count": 10,
     "metadata": {},
     "output_type": "execute_result"
    }
   ],
   "source": [
    "dataset.head()"
   ]
  },
  {
   "cell_type": "markdown",
   "metadata": {},
   "source": [
    "## Imputation of missingness"
   ]
  },
  {
   "cell_type": "markdown",
   "metadata": {},
   "source": [
    "First, we analyze the missing values in our dataset and impute them."
   ]
  },
  {
   "cell_type": "code",
   "execution_count": 11,
   "metadata": {},
   "outputs": [
    {
     "data": {
      "text/html": [
       "<div>\n",
       "<style scoped>\n",
       "    .dataframe tbody tr th:only-of-type {\n",
       "        vertical-align: middle;\n",
       "    }\n",
       "\n",
       "    .dataframe tbody tr th {\n",
       "        vertical-align: top;\n",
       "    }\n",
       "\n",
       "    .dataframe thead th {\n",
       "        text-align: right;\n",
       "    }\n",
       "</style>\n",
       "<table border=\"1\" class=\"dataframe\">\n",
       "  <thead>\n",
       "    <tr style=\"text-align: right;\">\n",
       "      <th></th>\n",
       "      <th>Total</th>\n",
       "      <th>Percent</th>\n",
       "    </tr>\n",
       "  </thead>\n",
       "  <tbody>\n",
       "    <tr>\n",
       "      <th>PoolQC</th>\n",
       "      <td>2909</td>\n",
       "      <td>0.996574</td>\n",
       "    </tr>\n",
       "    <tr>\n",
       "      <th>MiscFeature</th>\n",
       "      <td>2814</td>\n",
       "      <td>0.964029</td>\n",
       "    </tr>\n",
       "    <tr>\n",
       "      <th>Alley</th>\n",
       "      <td>2721</td>\n",
       "      <td>0.932169</td>\n",
       "    </tr>\n",
       "    <tr>\n",
       "      <th>Fence</th>\n",
       "      <td>2348</td>\n",
       "      <td>0.804385</td>\n",
       "    </tr>\n",
       "    <tr>\n",
       "      <th>FireplaceQu</th>\n",
       "      <td>1420</td>\n",
       "      <td>0.486468</td>\n",
       "    </tr>\n",
       "    <tr>\n",
       "      <th>LotFrontage</th>\n",
       "      <td>486</td>\n",
       "      <td>0.166495</td>\n",
       "    </tr>\n",
       "    <tr>\n",
       "      <th>GarageYrBlt</th>\n",
       "      <td>159</td>\n",
       "      <td>0.054471</td>\n",
       "    </tr>\n",
       "    <tr>\n",
       "      <th>GarageFinish</th>\n",
       "      <td>159</td>\n",
       "      <td>0.054471</td>\n",
       "    </tr>\n",
       "    <tr>\n",
       "      <th>GarageQual</th>\n",
       "      <td>159</td>\n",
       "      <td>0.054471</td>\n",
       "    </tr>\n",
       "    <tr>\n",
       "      <th>GarageCond</th>\n",
       "      <td>159</td>\n",
       "      <td>0.054471</td>\n",
       "    </tr>\n",
       "    <tr>\n",
       "      <th>GarageType</th>\n",
       "      <td>157</td>\n",
       "      <td>0.053786</td>\n",
       "    </tr>\n",
       "    <tr>\n",
       "      <th>BsmtExposure</th>\n",
       "      <td>82</td>\n",
       "      <td>0.028092</td>\n",
       "    </tr>\n",
       "    <tr>\n",
       "      <th>BsmtCond</th>\n",
       "      <td>82</td>\n",
       "      <td>0.028092</td>\n",
       "    </tr>\n",
       "    <tr>\n",
       "      <th>BsmtQual</th>\n",
       "      <td>81</td>\n",
       "      <td>0.027749</td>\n",
       "    </tr>\n",
       "    <tr>\n",
       "      <th>BsmtFinType2</th>\n",
       "      <td>80</td>\n",
       "      <td>0.027407</td>\n",
       "    </tr>\n",
       "    <tr>\n",
       "      <th>BsmtFinType1</th>\n",
       "      <td>79</td>\n",
       "      <td>0.027064</td>\n",
       "    </tr>\n",
       "    <tr>\n",
       "      <th>MasVnrType</th>\n",
       "      <td>24</td>\n",
       "      <td>0.008222</td>\n",
       "    </tr>\n",
       "    <tr>\n",
       "      <th>MasVnrArea</th>\n",
       "      <td>23</td>\n",
       "      <td>0.007879</td>\n",
       "    </tr>\n",
       "    <tr>\n",
       "      <th>MSZoning</th>\n",
       "      <td>4</td>\n",
       "      <td>0.001370</td>\n",
       "    </tr>\n",
       "    <tr>\n",
       "      <th>Utilities</th>\n",
       "      <td>2</td>\n",
       "      <td>0.000685</td>\n",
       "    </tr>\n",
       "    <tr>\n",
       "      <th>BsmtHalfBath</th>\n",
       "      <td>2</td>\n",
       "      <td>0.000685</td>\n",
       "    </tr>\n",
       "    <tr>\n",
       "      <th>Functional</th>\n",
       "      <td>2</td>\n",
       "      <td>0.000685</td>\n",
       "    </tr>\n",
       "    <tr>\n",
       "      <th>BsmtFullBath</th>\n",
       "      <td>2</td>\n",
       "      <td>0.000685</td>\n",
       "    </tr>\n",
       "    <tr>\n",
       "      <th>SaleType</th>\n",
       "      <td>1</td>\n",
       "      <td>0.000343</td>\n",
       "    </tr>\n",
       "    <tr>\n",
       "      <th>GarageArea</th>\n",
       "      <td>1</td>\n",
       "      <td>0.000343</td>\n",
       "    </tr>\n",
       "    <tr>\n",
       "      <th>TotalBsmtSF</th>\n",
       "      <td>1</td>\n",
       "      <td>0.000343</td>\n",
       "    </tr>\n",
       "    <tr>\n",
       "      <th>BsmtUnfSF</th>\n",
       "      <td>1</td>\n",
       "      <td>0.000343</td>\n",
       "    </tr>\n",
       "    <tr>\n",
       "      <th>Electrical</th>\n",
       "      <td>1</td>\n",
       "      <td>0.000343</td>\n",
       "    </tr>\n",
       "    <tr>\n",
       "      <th>BsmtFinSF2</th>\n",
       "      <td>1</td>\n",
       "      <td>0.000343</td>\n",
       "    </tr>\n",
       "    <tr>\n",
       "      <th>BsmtFinSF1</th>\n",
       "      <td>1</td>\n",
       "      <td>0.000343</td>\n",
       "    </tr>\n",
       "    <tr>\n",
       "      <th>KitchenQual</th>\n",
       "      <td>1</td>\n",
       "      <td>0.000343</td>\n",
       "    </tr>\n",
       "    <tr>\n",
       "      <th>Exterior2nd</th>\n",
       "      <td>1</td>\n",
       "      <td>0.000343</td>\n",
       "    </tr>\n",
       "    <tr>\n",
       "      <th>Exterior1st</th>\n",
       "      <td>1</td>\n",
       "      <td>0.000343</td>\n",
       "    </tr>\n",
       "    <tr>\n",
       "      <th>GarageCars</th>\n",
       "      <td>1</td>\n",
       "      <td>0.000343</td>\n",
       "    </tr>\n",
       "  </tbody>\n",
       "</table>\n",
       "</div>"
      ],
      "text/plain": [
       "              Total   Percent\n",
       "PoolQC         2909  0.996574\n",
       "MiscFeature    2814  0.964029\n",
       "Alley          2721  0.932169\n",
       "Fence          2348  0.804385\n",
       "FireplaceQu    1420  0.486468\n",
       "LotFrontage     486  0.166495\n",
       "GarageYrBlt     159  0.054471\n",
       "GarageFinish    159  0.054471\n",
       "GarageQual      159  0.054471\n",
       "GarageCond      159  0.054471\n",
       "GarageType      157  0.053786\n",
       "BsmtExposure     82  0.028092\n",
       "BsmtCond         82  0.028092\n",
       "BsmtQual         81  0.027749\n",
       "BsmtFinType2     80  0.027407\n",
       "BsmtFinType1     79  0.027064\n",
       "MasVnrType       24  0.008222\n",
       "MasVnrArea       23  0.007879\n",
       "MSZoning          4  0.001370\n",
       "Utilities         2  0.000685\n",
       "BsmtHalfBath      2  0.000685\n",
       "Functional        2  0.000685\n",
       "BsmtFullBath      2  0.000685\n",
       "SaleType          1  0.000343\n",
       "GarageArea        1  0.000343\n",
       "TotalBsmtSF       1  0.000343\n",
       "BsmtUnfSF         1  0.000343\n",
       "Electrical        1  0.000343\n",
       "BsmtFinSF2        1  0.000343\n",
       "BsmtFinSF1        1  0.000343\n",
       "KitchenQual       1  0.000343\n",
       "Exterior2nd       1  0.000343\n",
       "Exterior1st       1  0.000343\n",
       "GarageCars        1  0.000343"
      ]
     },
     "execution_count": 11,
     "metadata": {},
     "output_type": "execute_result"
    }
   ],
   "source": [
    "\n",
    "#missing data\n",
    "total = dataset.isnull().sum().sort_values(ascending=False)\n",
    "percent = (dataset.isnull().sum()/dataset.isnull().count()).sort_values(ascending=False)\n",
    "missing_data = pd.concat([total, percent], axis=1, keys=['Total', 'Percent'])\n",
    "\n",
    "missing_data[missing_data['Total'].values> 0]"
   ]
  },
  {
   "cell_type": "code",
   "execution_count": 12,
   "metadata": {},
   "outputs": [
    {
     "data": {
      "text/html": [
       "<div>\n",
       "<style scoped>\n",
       "    .dataframe tbody tr th:only-of-type {\n",
       "        vertical-align: middle;\n",
       "    }\n",
       "\n",
       "    .dataframe tbody tr th {\n",
       "        vertical-align: top;\n",
       "    }\n",
       "\n",
       "    .dataframe thead th {\n",
       "        text-align: right;\n",
       "    }\n",
       "</style>\n",
       "<table border=\"1\" class=\"dataframe\">\n",
       "  <thead>\n",
       "    <tr style=\"text-align: right;\">\n",
       "      <th></th>\n",
       "      <th>Id</th>\n",
       "      <th>MSSubClass</th>\n",
       "      <th>MSZoning</th>\n",
       "      <th>LotFrontage</th>\n",
       "      <th>LotArea</th>\n",
       "      <th>Street</th>\n",
       "      <th>Alley</th>\n",
       "      <th>LotShape</th>\n",
       "      <th>LandContour</th>\n",
       "      <th>Utilities</th>\n",
       "      <th>...</th>\n",
       "      <th>YrSold</th>\n",
       "      <th>SaleType</th>\n",
       "      <th>SaleCondition</th>\n",
       "      <th>SalePrice</th>\n",
       "      <th>Month</th>\n",
       "      <th>DJREI</th>\n",
       "      <th>Fannie</th>\n",
       "      <th>LaborForce</th>\n",
       "      <th>UnemplRate</th>\n",
       "      <th>Corn</th>\n",
       "    </tr>\n",
       "  </thead>\n",
       "  <tbody>\n",
       "    <tr>\n",
       "      <th>0</th>\n",
       "      <td>1461</td>\n",
       "      <td>20</td>\n",
       "      <td>RH</td>\n",
       "      <td>80.0</td>\n",
       "      <td>11622</td>\n",
       "      <td>Pave</td>\n",
       "      <td>NaN</td>\n",
       "      <td>Reg</td>\n",
       "      <td>Lvl</td>\n",
       "      <td>AllPub</td>\n",
       "      <td>...</td>\n",
       "      <td>2010</td>\n",
       "      <td>WD</td>\n",
       "      <td>Normal</td>\n",
       "      <td>99</td>\n",
       "      <td>201006</td>\n",
       "      <td>183.00</td>\n",
       "      <td>4.561</td>\n",
       "      <td>51950.0</td>\n",
       "      <td>4.7</td>\n",
       "      <td>3.610178</td>\n",
       "    </tr>\n",
       "    <tr>\n",
       "      <th>1</th>\n",
       "      <td>1462</td>\n",
       "      <td>20</td>\n",
       "      <td>RL</td>\n",
       "      <td>81.0</td>\n",
       "      <td>14267</td>\n",
       "      <td>Pave</td>\n",
       "      <td>NaN</td>\n",
       "      <td>IR1</td>\n",
       "      <td>Lvl</td>\n",
       "      <td>AllPub</td>\n",
       "      <td>...</td>\n",
       "      <td>2010</td>\n",
       "      <td>WD</td>\n",
       "      <td>Normal</td>\n",
       "      <td>99</td>\n",
       "      <td>201006</td>\n",
       "      <td>183.00</td>\n",
       "      <td>4.561</td>\n",
       "      <td>51950.0</td>\n",
       "      <td>4.7</td>\n",
       "      <td>3.610178</td>\n",
       "    </tr>\n",
       "    <tr>\n",
       "      <th>2</th>\n",
       "      <td>1463</td>\n",
       "      <td>60</td>\n",
       "      <td>RL</td>\n",
       "      <td>74.0</td>\n",
       "      <td>13830</td>\n",
       "      <td>Pave</td>\n",
       "      <td>NaN</td>\n",
       "      <td>IR1</td>\n",
       "      <td>Lvl</td>\n",
       "      <td>AllPub</td>\n",
       "      <td>...</td>\n",
       "      <td>2010</td>\n",
       "      <td>WD</td>\n",
       "      <td>Normal</td>\n",
       "      <td>99</td>\n",
       "      <td>201003</td>\n",
       "      <td>193.37</td>\n",
       "      <td>4.762</td>\n",
       "      <td>53639.0</td>\n",
       "      <td>4.6</td>\n",
       "      <td>3.734616</td>\n",
       "    </tr>\n",
       "    <tr>\n",
       "      <th>3</th>\n",
       "      <td>1464</td>\n",
       "      <td>60</td>\n",
       "      <td>RL</td>\n",
       "      <td>78.0</td>\n",
       "      <td>9978</td>\n",
       "      <td>Pave</td>\n",
       "      <td>NaN</td>\n",
       "      <td>IR1</td>\n",
       "      <td>Lvl</td>\n",
       "      <td>AllPub</td>\n",
       "      <td>...</td>\n",
       "      <td>2010</td>\n",
       "      <td>WD</td>\n",
       "      <td>Normal</td>\n",
       "      <td>99</td>\n",
       "      <td>201006</td>\n",
       "      <td>183.00</td>\n",
       "      <td>4.561</td>\n",
       "      <td>51950.0</td>\n",
       "      <td>4.7</td>\n",
       "      <td>3.610178</td>\n",
       "    </tr>\n",
       "    <tr>\n",
       "      <th>4</th>\n",
       "      <td>1465</td>\n",
       "      <td>120</td>\n",
       "      <td>RL</td>\n",
       "      <td>43.0</td>\n",
       "      <td>5005</td>\n",
       "      <td>Pave</td>\n",
       "      <td>NaN</td>\n",
       "      <td>IR1</td>\n",
       "      <td>HLS</td>\n",
       "      <td>AllPub</td>\n",
       "      <td>...</td>\n",
       "      <td>2010</td>\n",
       "      <td>WD</td>\n",
       "      <td>Normal</td>\n",
       "      <td>99</td>\n",
       "      <td>201001</td>\n",
       "      <td>168.83</td>\n",
       "      <td>4.993</td>\n",
       "      <td>52631.0</td>\n",
       "      <td>4.8</td>\n",
       "      <td>3.746940</td>\n",
       "    </tr>\n",
       "  </tbody>\n",
       "</table>\n",
       "<p>5 rows × 87 columns</p>\n",
       "</div>"
      ],
      "text/plain": [
       "     Id  MSSubClass MSZoning  LotFrontage  LotArea Street Alley LotShape  \\\n",
       "0  1461          20       RH         80.0    11622   Pave   NaN      Reg   \n",
       "1  1462          20       RL         81.0    14267   Pave   NaN      IR1   \n",
       "2  1463          60       RL         74.0    13830   Pave   NaN      IR1   \n",
       "3  1464          60       RL         78.0     9978   Pave   NaN      IR1   \n",
       "4  1465         120       RL         43.0     5005   Pave   NaN      IR1   \n",
       "\n",
       "  LandContour Utilities    ...    YrSold SaleType SaleCondition SalePrice  \\\n",
       "0         Lvl    AllPub    ...      2010       WD        Normal        99   \n",
       "1         Lvl    AllPub    ...      2010       WD        Normal        99   \n",
       "2         Lvl    AllPub    ...      2010       WD        Normal        99   \n",
       "3         Lvl    AllPub    ...      2010       WD        Normal        99   \n",
       "4         HLS    AllPub    ...      2010       WD        Normal        99   \n",
       "\n",
       "    Month   DJREI Fannie  LaborForce  UnemplRate      Corn  \n",
       "0  201006  183.00  4.561     51950.0         4.7  3.610178  \n",
       "1  201006  183.00  4.561     51950.0         4.7  3.610178  \n",
       "2  201003  193.37  4.762     53639.0         4.6  3.734616  \n",
       "3  201006  183.00  4.561     51950.0         4.7  3.610178  \n",
       "4  201001  168.83  4.993     52631.0         4.8  3.746940  \n",
       "\n",
       "[5 rows x 87 columns]"
      ]
     },
     "execution_count": 12,
     "metadata": {},
     "output_type": "execute_result"
    }
   ],
   "source": [
    "#a look at rows with missing data\n",
    "null_data = dataset[dataset.isnull().any(axis=1)]\n",
    "null_data.head()"
   ]
  },
  {
   "cell_type": "markdown",
   "metadata": {},
   "source": [
    "We handle missing values based on our understanding of why the vallue is missing.\n",
    "\n",
    "For example, missing value for AlleyAccess seems to mean that there is no alley access to the property. Therefore, we impute missing values with 'None'."
   ]
  },
  {
   "cell_type": "code",
   "execution_count": 13,
   "metadata": {},
   "outputs": [],
   "source": [
    "# Alley : data description says NA means \"no alley access\"\n",
    "dataset.loc[:, \"Alley\"] = dataset.loc[:, \"Alley\"].fillna(\"None\")"
   ]
  },
  {
   "cell_type": "markdown",
   "metadata": {},
   "source": [
    "The missing value for the basement feature are probably explained by the absense of a basement."
   ]
  },
  {
   "cell_type": "code",
   "execution_count": 14,
   "metadata": {},
   "outputs": [],
   "source": [
    "# BsmtQual etc : data description says NA for basement features is \"no basement\"\n",
    "dataset.loc[:, \"BsmtQual\"] = dataset.loc[:, \"BsmtQual\"].fillna(\"No\")\n",
    "dataset.loc[:, \"BsmtCond\"] = dataset.loc[:, \"BsmtCond\"].fillna(\"No\")\n",
    "dataset.loc[:, \"BsmtExposure\"] = dataset.loc[:, \"BsmtExposure\"].fillna(\"No\")\n",
    "dataset.loc[:, \"BsmtFinType1\"] = dataset.loc[:, \"BsmtFinType1\"].fillna(\"No\")\n",
    "dataset.loc[:, \"BsmtFinType2\"] = dataset.loc[:, \"BsmtFinType2\"].fillna(\"No\")\n",
    "dataset.loc[:, \"BsmtFullBath\"] = dataset.loc[:, \"BsmtFullBath\"].fillna(0)\n",
    "dataset.loc[:, \"BsmtHalfBath\"] = dataset.loc[:, \"BsmtHalfBath\"].fillna(0)\n",
    "dataset.loc[:, \"BsmtUnfSF\"] = dataset.loc[:, \"BsmtUnfSF\"].fillna(0)"
   ]
  },
  {
   "cell_type": "markdown",
   "metadata": {},
   "source": [
    "We handle other missing features in the similar manner."
   ]
  },
  {
   "cell_type": "code",
   "execution_count": 15,
   "metadata": {},
   "outputs": [],
   "source": [
    "\n",
    "# Fence : data description says NA means \"no fence\"\n",
    "dataset.loc[:, \"Fence\"] = dataset.loc[:, \"Fence\"].fillna(\"No\")\n",
    "\n",
    "# FireplaceQu : data description says NA means \"no fireplace\"\n",
    "dataset.loc[:, \"FireplaceQu\"] = dataset.loc[:, \"FireplaceQu\"].fillna(\"No\")\n",
    "\n",
    "# Functional : data description says NA means typical\n",
    "dataset.loc[:, \"Functional\"] = dataset.loc[:, \"Functional\"].fillna(\"Typ\")\n",
    "\n",
    "# GarageType etc : data description says NA for garage features is \"no garage\"\n",
    "dataset.loc[:, \"GarageType\"] = dataset.loc[:, \"GarageType\"].fillna(\"No\")\n",
    "dataset.loc[:, \"GarageFinish\"] = dataset.loc[:, \"GarageFinish\"].fillna(\"No\")\n",
    "dataset.loc[:, \"GarageQual\"] = dataset.loc[:, \"GarageQual\"].fillna(\"No\")\n",
    "dataset.loc[:, \"GarageCond\"] = dataset.loc[:, \"GarageCond\"].fillna(\"No\")\n",
    "dataset.loc[:, \"GarageArea\"] = dataset.loc[:, \"GarageArea\"].fillna(0)\n",
    "dataset.loc[:, \"GarageCars\"] = dataset.loc[:, \"GarageCars\"].fillna(0)\n",
    "dataset.loc[:, \"GarageYrBlt\"] = dataset.loc[:, \"GarageYrBlt\"].fillna(0)\n",
    "\n",
    "# KitchenQual : NA most likely means typical\n",
    "dataset.loc[:, \"KitchenQual\"] = dataset.loc[:, \"KitchenQual\"].fillna(\"TA\")\n",
    "\n",
    "# MasVnrType : NA most likely means no veneer\n",
    "dataset.loc[:, \"MasVnrType\"] = dataset.loc[:, \"MasVnrType\"].fillna(\"None\")\n",
    "dataset.loc[:, \"MasVnrArea\"] = dataset.loc[:, \"MasVnrArea\"].fillna(0)\n",
    "\n",
    "# MiscFeature : data description says NA means \"no misc feature\"\n",
    "dataset.loc[:, \"MiscFeature\"] = dataset.loc[:, \"MiscFeature\"].fillna(\"No\")\n",
    "\n",
    "# PoolQC : data description says NA means \"no pool\"\n",
    "dataset.loc[:, \"PoolQC\"] = dataset.loc[:, \"PoolQC\"].fillna(\"No\")\n",
    "\n",
    "# Utilities : NA most likely means all public utilities\n",
    "dataset.loc[:, \"Utilities\"] = dataset.loc[:, \"Utilities\"].fillna(\"AllPub\")\n",
    "\n",
    "#median\n",
    "dataset[\"LotFrontage\"] = dataset.groupby(\"Neighborhood\")[\"LotFrontage\"].transform(lambda x: x.fillna(x.median()))\n",
    "\n",
    "#mode, categorical\n",
    "dataset[\"MSZoning\"] = dataset.groupby(\"Neighborhood\")[\"MSZoning\"].transform(lambda x: x.fillna(x.mode()[0]))\n",
    "dataset[\"SaleType\"] = dataset.groupby(\"Neighborhood\")[\"SaleType\"].transform(lambda x: x.fillna(x.mode()[0]))\n",
    "dataset[\"Electrical\"] = dataset.groupby(\"Neighborhood\")[\"Electrical\"].transform(lambda x: x.fillna(x.mode()[0]))\n",
    "dataset[\"Exterior1st\"] = dataset.groupby(\"Neighborhood\")[\"Exterior1st\"].transform(lambda x: x.fillna(x.mode()[0]))\n",
    "dataset[\"Exterior2nd\"] = dataset.groupby(\"Neighborhood\")[\"Exterior2nd\"].transform(lambda x: x.fillna(x.mode()[0]))\n",
    "\n",
    "#looking at the NA row, basement is nonexistent so basement SF is 0 \n",
    "dataset.loc[:, \"TotalBsmtSF\"] = dataset.loc[:, \"TotalBsmtSF\"].fillna(0)\n",
    "dataset.loc[:, \"BsmtFinSF1\"] = dataset.loc[:, \"BsmtFinSF1\"].fillna(0)\n",
    "dataset.loc[:, \"BsmtFinSF2\"] = dataset.loc[:, \"BsmtFinSF2\"].fillna(0)\n"
   ]
  },
  {
   "cell_type": "markdown",
   "metadata": {},
   "source": [
    "Check that there are no more missing values"
   ]
  },
  {
   "cell_type": "code",
   "execution_count": 16,
   "metadata": {},
   "outputs": [
    {
     "data": {
      "text/html": [
       "<div>\n",
       "<style scoped>\n",
       "    .dataframe tbody tr th:only-of-type {\n",
       "        vertical-align: middle;\n",
       "    }\n",
       "\n",
       "    .dataframe tbody tr th {\n",
       "        vertical-align: top;\n",
       "    }\n",
       "\n",
       "    .dataframe thead th {\n",
       "        text-align: right;\n",
       "    }\n",
       "</style>\n",
       "<table border=\"1\" class=\"dataframe\">\n",
       "  <thead>\n",
       "    <tr style=\"text-align: right;\">\n",
       "      <th></th>\n",
       "      <th>Total</th>\n",
       "      <th>Percent</th>\n",
       "    </tr>\n",
       "  </thead>\n",
       "  <tbody>\n",
       "  </tbody>\n",
       "</table>\n",
       "</div>"
      ],
      "text/plain": [
       "Empty DataFrame\n",
       "Columns: [Total, Percent]\n",
       "Index: []"
      ]
     },
     "execution_count": 16,
     "metadata": {},
     "output_type": "execute_result"
    }
   ],
   "source": [
    "#let's take a look at the data now\n",
    "total = dataset.isnull().sum().sort_values(ascending=False)\n",
    "percent = (dataset.isnull().sum()/dataset.isnull().count()).sort_values(ascending=False)\n",
    "missing_data = pd.concat([total, percent], axis=1, keys=['Total', 'Percent'])\n",
    "\n",
    "missing_data[missing_data['Total'].values> 0]"
   ]
  },
  {
   "cell_type": "markdown",
   "metadata": {},
   "source": [
    "## Create one hot representation"
   ]
  },
  {
   "cell_type": "code",
   "execution_count": 17,
   "metadata": {},
   "outputs": [
    {
     "data": {
      "text/html": [
       "<div>\n",
       "<style scoped>\n",
       "    .dataframe tbody tr th:only-of-type {\n",
       "        vertical-align: middle;\n",
       "    }\n",
       "\n",
       "    .dataframe tbody tr th {\n",
       "        vertical-align: top;\n",
       "    }\n",
       "\n",
       "    .dataframe thead th {\n",
       "        text-align: right;\n",
       "    }\n",
       "</style>\n",
       "<table border=\"1\" class=\"dataframe\">\n",
       "  <thead>\n",
       "    <tr style=\"text-align: right;\">\n",
       "      <th></th>\n",
       "      <th>Id</th>\n",
       "      <th>MSSubClass</th>\n",
       "      <th>MSZoning</th>\n",
       "      <th>LotFrontage</th>\n",
       "      <th>LotArea</th>\n",
       "      <th>Street</th>\n",
       "      <th>Alley</th>\n",
       "      <th>LotShape</th>\n",
       "      <th>LandContour</th>\n",
       "      <th>Utilities</th>\n",
       "      <th>...</th>\n",
       "      <th>YrSold</th>\n",
       "      <th>SaleType</th>\n",
       "      <th>SaleCondition</th>\n",
       "      <th>SalePrice</th>\n",
       "      <th>Month</th>\n",
       "      <th>DJREI</th>\n",
       "      <th>Fannie</th>\n",
       "      <th>LaborForce</th>\n",
       "      <th>UnemplRate</th>\n",
       "      <th>Corn</th>\n",
       "    </tr>\n",
       "  </thead>\n",
       "  <tbody>\n",
       "    <tr>\n",
       "      <th>0</th>\n",
       "      <td>1461</td>\n",
       "      <td>20</td>\n",
       "      <td>RH</td>\n",
       "      <td>80.0</td>\n",
       "      <td>11622</td>\n",
       "      <td>Pave</td>\n",
       "      <td>None</td>\n",
       "      <td>Reg</td>\n",
       "      <td>Lvl</td>\n",
       "      <td>AllPub</td>\n",
       "      <td>...</td>\n",
       "      <td>2010</td>\n",
       "      <td>WD</td>\n",
       "      <td>Normal</td>\n",
       "      <td>99</td>\n",
       "      <td>201006</td>\n",
       "      <td>183.00</td>\n",
       "      <td>4.561</td>\n",
       "      <td>51950.0</td>\n",
       "      <td>4.7</td>\n",
       "      <td>3.610178</td>\n",
       "    </tr>\n",
       "    <tr>\n",
       "      <th>1</th>\n",
       "      <td>1462</td>\n",
       "      <td>20</td>\n",
       "      <td>RL</td>\n",
       "      <td>81.0</td>\n",
       "      <td>14267</td>\n",
       "      <td>Pave</td>\n",
       "      <td>None</td>\n",
       "      <td>IR1</td>\n",
       "      <td>Lvl</td>\n",
       "      <td>AllPub</td>\n",
       "      <td>...</td>\n",
       "      <td>2010</td>\n",
       "      <td>WD</td>\n",
       "      <td>Normal</td>\n",
       "      <td>99</td>\n",
       "      <td>201006</td>\n",
       "      <td>183.00</td>\n",
       "      <td>4.561</td>\n",
       "      <td>51950.0</td>\n",
       "      <td>4.7</td>\n",
       "      <td>3.610178</td>\n",
       "    </tr>\n",
       "    <tr>\n",
       "      <th>2</th>\n",
       "      <td>1463</td>\n",
       "      <td>60</td>\n",
       "      <td>RL</td>\n",
       "      <td>74.0</td>\n",
       "      <td>13830</td>\n",
       "      <td>Pave</td>\n",
       "      <td>None</td>\n",
       "      <td>IR1</td>\n",
       "      <td>Lvl</td>\n",
       "      <td>AllPub</td>\n",
       "      <td>...</td>\n",
       "      <td>2010</td>\n",
       "      <td>WD</td>\n",
       "      <td>Normal</td>\n",
       "      <td>99</td>\n",
       "      <td>201003</td>\n",
       "      <td>193.37</td>\n",
       "      <td>4.762</td>\n",
       "      <td>53639.0</td>\n",
       "      <td>4.6</td>\n",
       "      <td>3.734616</td>\n",
       "    </tr>\n",
       "    <tr>\n",
       "      <th>3</th>\n",
       "      <td>1464</td>\n",
       "      <td>60</td>\n",
       "      <td>RL</td>\n",
       "      <td>78.0</td>\n",
       "      <td>9978</td>\n",
       "      <td>Pave</td>\n",
       "      <td>None</td>\n",
       "      <td>IR1</td>\n",
       "      <td>Lvl</td>\n",
       "      <td>AllPub</td>\n",
       "      <td>...</td>\n",
       "      <td>2010</td>\n",
       "      <td>WD</td>\n",
       "      <td>Normal</td>\n",
       "      <td>99</td>\n",
       "      <td>201006</td>\n",
       "      <td>183.00</td>\n",
       "      <td>4.561</td>\n",
       "      <td>51950.0</td>\n",
       "      <td>4.7</td>\n",
       "      <td>3.610178</td>\n",
       "    </tr>\n",
       "    <tr>\n",
       "      <th>4</th>\n",
       "      <td>1465</td>\n",
       "      <td>120</td>\n",
       "      <td>RL</td>\n",
       "      <td>43.0</td>\n",
       "      <td>5005</td>\n",
       "      <td>Pave</td>\n",
       "      <td>None</td>\n",
       "      <td>IR1</td>\n",
       "      <td>HLS</td>\n",
       "      <td>AllPub</td>\n",
       "      <td>...</td>\n",
       "      <td>2010</td>\n",
       "      <td>WD</td>\n",
       "      <td>Normal</td>\n",
       "      <td>99</td>\n",
       "      <td>201001</td>\n",
       "      <td>168.83</td>\n",
       "      <td>4.993</td>\n",
       "      <td>52631.0</td>\n",
       "      <td>4.8</td>\n",
       "      <td>3.746940</td>\n",
       "    </tr>\n",
       "  </tbody>\n",
       "</table>\n",
       "<p>5 rows × 87 columns</p>\n",
       "</div>"
      ],
      "text/plain": [
       "     Id MSSubClass MSZoning  LotFrontage  LotArea Street Alley LotShape  \\\n",
       "0  1461         20       RH         80.0    11622   Pave  None      Reg   \n",
       "1  1462         20       RL         81.0    14267   Pave  None      IR1   \n",
       "2  1463         60       RL         74.0    13830   Pave  None      IR1   \n",
       "3  1464         60       RL         78.0     9978   Pave  None      IR1   \n",
       "4  1465        120       RL         43.0     5005   Pave  None      IR1   \n",
       "\n",
       "  LandContour Utilities    ...    YrSold SaleType SaleCondition SalePrice  \\\n",
       "0         Lvl    AllPub    ...      2010       WD        Normal        99   \n",
       "1         Lvl    AllPub    ...      2010       WD        Normal        99   \n",
       "2         Lvl    AllPub    ...      2010       WD        Normal        99   \n",
       "3         Lvl    AllPub    ...      2010       WD        Normal        99   \n",
       "4         HLS    AllPub    ...      2010       WD        Normal        99   \n",
       "\n",
       "    Month   DJREI Fannie  LaborForce  UnemplRate      Corn  \n",
       "0  201006  183.00  4.561     51950.0         4.7  3.610178  \n",
       "1  201006  183.00  4.561     51950.0         4.7  3.610178  \n",
       "2  201003  193.37  4.762     53639.0         4.6  3.734616  \n",
       "3  201006  183.00  4.561     51950.0         4.7  3.610178  \n",
       "4  201001  168.83  4.993     52631.0         4.8  3.746940  \n",
       "\n",
       "[5 rows x 87 columns]"
      ]
     },
     "execution_count": 17,
     "metadata": {},
     "output_type": "execute_result"
    }
   ],
   "source": [
    "# Find categorical variables\n",
    "df = dataset.copy()\n",
    "\n",
    "\n",
    "numerical = list(set(df.mean().index) - set(['MSSubClass']))\n",
    "categorical = list(set(df.columns) - set(numerical))\n",
    "\n",
    "# Convert into categorical\n",
    "for column in categorical:\n",
    "    df[column] = df[column].astype('category')\n",
    "\n",
    "\n",
    "df.head()\n"
   ]
  },
  {
   "cell_type": "markdown",
   "metadata": {},
   "source": [
    "Pickle list of types"
   ]
  },
  {
   "cell_type": "code",
   "execution_count": 18,
   "metadata": {},
   "outputs": [],
   "source": [
    "# Exclude Sales price from numerical list\n",
    "numerical = list(set(numerical) - set(['SalePrice', 'Id']))\n",
    "\n",
    "pickle.dump(numerical, open('./tmp/numerical.list', 'wb'))\n",
    "pickle.dump(categorical, open('./tmp/categorical.list', 'wb'))\n"
   ]
  },
  {
   "cell_type": "markdown",
   "metadata": {},
   "source": [
    "Create one hot vector of numerical"
   ]
  },
  {
   "cell_type": "code",
   "execution_count": 19,
   "metadata": {},
   "outputs": [
    {
     "data": {
      "text/plain": [
       "(2919, 280)"
      ]
     },
     "execution_count": 19,
     "metadata": {},
     "output_type": "execute_result"
    }
   ],
   "source": [
    "# Create dummies\n",
    "one_hot_data = pd.get_dummies(df[categorical],drop_first=True)\n",
    "\n",
    "#Drop categorical\n",
    "df = df.drop(categorical, axis=1)\n",
    "\n",
    "# Merge with one hot\n",
    "df = df.join(one_hot_data)\n",
    "df.shape"
   ]
  },
  {
   "cell_type": "markdown",
   "metadata": {},
   "source": [
    "## SalePrice vs. Log Sale Price"
   ]
  },
  {
   "cell_type": "markdown",
   "metadata": {},
   "source": [
    "For our models we choose whether to use the sales prices or the log of them. Let's look at the distribution of the prices in our dataset."
   ]
  },
  {
   "cell_type": "code",
   "execution_count": 20,
   "metadata": {},
   "outputs": [
    {
     "name": "stdout",
     "output_type": "stream",
     "text": [
      "       price  log(price)\n",
      "1459  208500   12.247694\n",
      "1460  181500   12.109011\n",
      "1461  223500   12.317167\n",
      "1462  140000   11.849398\n",
      "1463  250000   12.429216\n"
     ]
    },
    {
     "data": {
      "image/png": "[encoded data removed]",
      "text/plain": [
       "<Figure size 864x432 with 2 Axes>"
      ]
     },
     "metadata": {},
     "output_type": "display_data"
    }
   ],
   "source": [
    "matplotlib.rcParams['figure.figsize'] = (12.0, 6.0)\n",
    "saleprices = df.loc[df['SalePrice']!=99,'SalePrice']\n",
    "prices = pd.DataFrame({\"price\":saleprices, \"log(price)\":np.log(saleprices)})\n",
    "print (prices.head())\n",
    "prices.hist()\n",
    "plt.xticks(rotation=45)\n",
    "plt.savefig('./output/price_vs_log.png', dpi=300)"
   ]
  },
  {
   "cell_type": "markdown",
   "metadata": {},
   "source": [
    "It seems that the prices follow the lognormal distribution. Therefore, we will use log of prices as our response variable."
   ]
  },
  {
   "cell_type": "markdown",
   "metadata": {},
   "source": [
    "To illustrate it we plot scatter plots of Sales Price and Living Area"
   ]
  },
  {
   "cell_type": "code",
   "execution_count": 21,
   "metadata": {},
   "outputs": [
    {
     "data": {
      "image/png": "[encoded data removed]",
      "text/plain": [
       "<Figure size 864x432 with 2 Axes>"
      ]
     },
     "metadata": {},
     "output_type": "display_data"
    }
   ],
   "source": [
    "matplotlib.rcParams['figure.figsize'] = (12.0, 6.0)\n",
    "prices = pd.DataFrame({\"price\":saleprices, \"log(price)\":np.log(saleprices)})\n",
    "prices = prices.join(pd.DataFrame({'LivingArea':df.GrLivArea}))\n",
    "\n",
    "plt.subplot(1,2,1)\n",
    "plt.scatter(prices['LivingArea'], prices['log(price)'])\n",
    "plt.ylabel('Log Price')\n",
    "plt.xlabel('Living Area')\n",
    "plt.title('LogPrice')\n",
    "\n",
    "plt.subplot(1,2,2)\n",
    "plt.scatter(prices['LivingArea'], prices['price'])\n",
    "plt.ylabel('Price')\n",
    "plt.xlabel('Living Area')\n",
    "plt.title('Price')\n",
    "\n",
    "plt.savefig('./output/price_vs_log_vs_living.png', dpi=300)"
   ]
  },
  {
   "cell_type": "code",
   "execution_count": 22,
   "metadata": {},
   "outputs": [
    {
     "name": "stderr",
     "output_type": "stream",
     "text": [
      "/home/mike/anaconda3/lib/python3.6/site-packages/ipykernel_launcher.py:10: SettingWithCopyWarning: \n",
      "A value is trying to be set on a copy of a slice from a DataFrame\n",
      "\n",
      "See the caveats in the documentation: http://pandas.pydata.org/pandas-docs/stable/indexing.html#indexing-view-versus-copy\n",
      "  # Remove the CWD from sys.path while we load stuff.\n",
      "/home/mike/anaconda3/lib/python3.6/site-packages/ipykernel_launcher.py:10: SettingWithCopyWarning: \n",
      "A value is trying to be set on a copy of a slice from a DataFrame\n",
      "\n",
      "See the caveats in the documentation: http://pandas.pydata.org/pandas-docs/stable/indexing.html#indexing-view-versus-copy\n",
      "  # Remove the CWD from sys.path while we load stuff.\n",
      "/home/mike/anaconda3/lib/python3.6/site-packages/ipykernel_launcher.py:10: SettingWithCopyWarning: \n",
      "A value is trying to be set on a copy of a slice from a DataFrame\n",
      "\n",
      "See the caveats in the documentation: http://pandas.pydata.org/pandas-docs/stable/indexing.html#indexing-view-versus-copy\n",
      "  # Remove the CWD from sys.path while we load stuff.\n",
      "/home/mike/anaconda3/lib/python3.6/site-packages/ipykernel_launcher.py:10: SettingWithCopyWarning: \n",
      "A value is trying to be set on a copy of a slice from a DataFrame\n",
      "\n",
      "See the caveats in the documentation: http://pandas.pydata.org/pandas-docs/stable/indexing.html#indexing-view-versus-copy\n",
      "  # Remove the CWD from sys.path while we load stuff.\n",
      "/home/mike/anaconda3/lib/python3.6/site-packages/ipykernel_launcher.py:10: SettingWithCopyWarning: \n",
      "A value is trying to be set on a copy of a slice from a DataFrame\n",
      "\n",
      "See the caveats in the documentation: http://pandas.pydata.org/pandas-docs/stable/indexing.html#indexing-view-versus-copy\n",
      "  # Remove the CWD from sys.path while we load stuff.\n",
      "/home/mike/anaconda3/lib/python3.6/site-packages/ipykernel_launcher.py:10: SettingWithCopyWarning: \n",
      "A value is trying to be set on a copy of a slice from a DataFrame\n",
      "\n",
      "See the caveats in the documentation: http://pandas.pydata.org/pandas-docs/stable/indexing.html#indexing-view-versus-copy\n",
      "  # Remove the CWD from sys.path while we load stuff.\n",
      "/home/mike/anaconda3/lib/python3.6/site-packages/ipykernel_launcher.py:10: SettingWithCopyWarning: \n",
      "A value is trying to be set on a copy of a slice from a DataFrame\n",
      "\n",
      "See the caveats in the documentation: http://pandas.pydata.org/pandas-docs/stable/indexing.html#indexing-view-versus-copy\n",
      "  # Remove the CWD from sys.path while we load stuff.\n",
      "/home/mike/anaconda3/lib/python3.6/site-packages/ipykernel_launcher.py:10: SettingWithCopyWarning: \n",
      "A value is trying to be set on a copy of a slice from a DataFrame\n",
      "\n",
      "See the caveats in the documentation: http://pandas.pydata.org/pandas-docs/stable/indexing.html#indexing-view-versus-copy\n",
      "  # Remove the CWD from sys.path while we load stuff.\n",
      "/home/mike/anaconda3/lib/python3.6/site-packages/ipykernel_launcher.py:10: SettingWithCopyWarning: \n",
      "A value is trying to be set on a copy of a slice from a DataFrame\n",
      "\n",
      "See the caveats in the documentation: http://pandas.pydata.org/pandas-docs/stable/indexing.html#indexing-view-versus-copy\n",
      "  # Remove the CWD from sys.path while we load stuff.\n",
      "/home/mike/anaconda3/lib/python3.6/site-packages/ipykernel_launcher.py:10: SettingWithCopyWarning: \n",
      "A value is trying to be set on a copy of a slice from a DataFrame\n",
      "\n",
      "See the caveats in the documentation: http://pandas.pydata.org/pandas-docs/stable/indexing.html#indexing-view-versus-copy\n",
      "  # Remove the CWD from sys.path while we load stuff.\n",
      "/home/mike/anaconda3/lib/python3.6/site-packages/ipykernel_launcher.py:10: SettingWithCopyWarning: \n",
      "A value is trying to be set on a copy of a slice from a DataFrame\n",
      "\n",
      "See the caveats in the documentation: http://pandas.pydata.org/pandas-docs/stable/indexing.html#indexing-view-versus-copy\n",
      "  # Remove the CWD from sys.path while we load stuff.\n",
      "/home/mike/anaconda3/lib/python3.6/site-packages/ipykernel_launcher.py:10: SettingWithCopyWarning: \n",
      "A value is trying to be set on a copy of a slice from a DataFrame\n",
      "\n",
      "See the caveats in the documentation: http://pandas.pydata.org/pandas-docs/stable/indexing.html#indexing-view-versus-copy\n",
      "  # Remove the CWD from sys.path while we load stuff.\n",
      "/home/mike/anaconda3/lib/python3.6/site-packages/ipykernel_launcher.py:10: SettingWithCopyWarning: \n",
      "A value is trying to be set on a copy of a slice from a DataFrame\n",
      "\n",
      "See the caveats in the documentation: http://pandas.pydata.org/pandas-docs/stable/indexing.html#indexing-view-versus-copy\n",
      "  # Remove the CWD from sys.path while we load stuff.\n",
      "/home/mike/anaconda3/lib/python3.6/site-packages/ipykernel_launcher.py:10: SettingWithCopyWarning: \n",
      "A value is trying to be set on a copy of a slice from a DataFrame\n",
      "\n",
      "See the caveats in the documentation: http://pandas.pydata.org/pandas-docs/stable/indexing.html#indexing-view-versus-copy\n",
      "  # Remove the CWD from sys.path while we load stuff.\n",
      "/home/mike/anaconda3/lib/python3.6/site-packages/ipykernel_launcher.py:10: SettingWithCopyWarning: \n",
      "A value is trying to be set on a copy of a slice from a DataFrame\n",
      "\n",
      "See the caveats in the documentation: http://pandas.pydata.org/pandas-docs/stable/indexing.html#indexing-view-versus-copy\n",
      "  # Remove the CWD from sys.path while we load stuff.\n",
      "/home/mike/anaconda3/lib/python3.6/site-packages/ipykernel_launcher.py:10: SettingWithCopyWarning: \n",
      "A value is trying to be set on a copy of a slice from a DataFrame\n",
      "\n",
      "See the caveats in the documentation: http://pandas.pydata.org/pandas-docs/stable/indexing.html#indexing-view-versus-copy\n",
      "  # Remove the CWD from sys.path while we load stuff.\n",
      "/home/mike/anaconda3/lib/python3.6/site-packages/ipykernel_launcher.py:10: SettingWithCopyWarning: \n",
      "A value is trying to be set on a copy of a slice from a DataFrame\n",
      "\n",
      "See the caveats in the documentation: http://pandas.pydata.org/pandas-docs/stable/indexing.html#indexing-view-versus-copy\n",
      "  # Remove the CWD from sys.path while we load stuff.\n",
      "/home/mike/anaconda3/lib/python3.6/site-packages/ipykernel_launcher.py:10: SettingWithCopyWarning: \n",
      "A value is trying to be set on a copy of a slice from a DataFrame\n",
      "\n",
      "See the caveats in the documentation: http://pandas.pydata.org/pandas-docs/stable/indexing.html#indexing-view-versus-copy\n",
      "  # Remove the CWD from sys.path while we load stuff.\n"
     ]
    }
   ],
   "source": [
    "def correctWrong(series, threshold=5):\n",
    "    '''\n",
    "    A helper function that returns series with variables that deviate from the mean by more than a threshold\n",
    "    imputed by the mean\n",
    "    '''\n",
    "    series_nonnull = series[series!=0]\n",
    "    mean = np.mean(series_nonnull)\n",
    "    std = np.std(series_nonnull)\n",
    "    \n",
    "    series[series!=0] = series[series!=0].map(lambda x: x if x< (mean + threshold*std) else mean)\n",
    "    \n",
    "    return series\n",
    "    \n",
    "df[numerical] = df[numerical].apply(correctWrong)"
   ]
  },
  {
   "cell_type": "code",
   "execution_count": 23,
   "metadata": {},
   "outputs": [
    {
     "data": {
      "image/png": "[encoded data removed]",
      "text/plain": [
       "<Figure size 864x432 with 2 Axes>"
      ]
     },
     "metadata": {},
     "output_type": "display_data"
    }
   ],
   "source": [
    "matplotlib.rcParams['figure.figsize'] = (12.0, 6.0)\n",
    "prices = pd.DataFrame({\"price\":saleprices, \"log(price)\":np.log(saleprices)})\n",
    "prices = prices.join(pd.DataFrame({'LivingArea':df.GrLivArea}))\n",
    "\n",
    "plt.subplot(1,2,1)\n",
    "plt.scatter(prices['LivingArea'], prices['log(price)'])\n",
    "plt.ylabel('Log Price')\n",
    "plt.xlabel('Living Area')\n",
    "plt.title('LogPrice')\n",
    "\n",
    "plt.subplot(1,2,2)\n",
    "plt.scatter(prices['LivingArea'], prices['price'])\n",
    "plt.ylabel('Price')\n",
    "plt.xlabel('Living Area')\n",
    "plt.title('Price')\n",
    "\n",
    "plt.savefig('./output/price_vs_log_vs_living_nooutliers.png', dpi=300)"
   ]
  },
  {
   "cell_type": "markdown",
   "metadata": {},
   "source": [
    "## Feature Engeneering"
   ]
  },
  {
   "cell_type": "markdown",
   "metadata": {},
   "source": [
    "Next, we look at distributions of numerical features and their skeweness."
   ]
  },
  {
   "cell_type": "code",
   "execution_count": 24,
   "metadata": {},
   "outputs": [
    {
     "data": {
      "text/plain": [
       "BsmtHalfBath      3.707339\n",
       "KitchenAbvGr      4.150125\n",
       "EnclosedPorch     3.137623\n",
       "PoolArea         16.898328\n",
       "OpenPorchSF       1.888842\n",
       "LotArea           2.287168\n",
       "BsmtFinSF2        4.146143\n",
       "BsmtUnfSF         0.919339\n",
       "MasVnrArea        2.405346\n",
       "GrLivArea         0.874911\n",
       "2ndFlrSF          0.861675\n",
       "LaborForce        1.227812\n",
       "WoodDeckSF        1.443151\n",
       "LowQualFinSF     12.088761\n",
       "MiscVal          20.035401\n",
       "BsmtFinSF1        0.850062\n",
       "ScreenPorch       3.798727\n",
       "3SsnPorch        11.376065\n",
       "1stFlrSF          0.822144\n",
       "dtype: float64"
      ]
     },
     "execution_count": 24,
     "metadata": {},
     "output_type": "execute_result"
    }
   ],
   "source": [
    "skewed_feats = df[numerical].apply(lambda x: skew(x)) # compute skewness\n",
    "\n",
    "# Select where skewenes is >0.75\n",
    "skewed_feats = skewed_feats[skewed_feats>0.75]\n",
    "\n",
    "# Get names of skewed features\n",
    "sk_feat = list(skewed_feats.index.values)\n",
    "skewed_feats"
   ]
  },
  {
   "cell_type": "markdown",
   "metadata": {},
   "source": [
    "We perform log transformation of the skewed variables"
   ]
  },
  {
   "cell_type": "code",
   "execution_count": 25,
   "metadata": {},
   "outputs": [],
   "source": [
    "# Save initial values for comparison\n",
    "init_skewed = df[sk_feat]\n",
    "\n",
    "# Apply Log+1 transformation\n",
    "df[sk_feat] = np.log1p(df[sk_feat])"
   ]
  },
  {
   "cell_type": "markdown",
   "metadata": {},
   "source": [
    "Plot new features histograms"
   ]
  },
  {
   "cell_type": "code",
   "execution_count": 26,
   "metadata": {},
   "outputs": [
    {
     "data": {
      "image/png": "[encoded data removed]",
      "text/plain": [
       "<Figure size 864x432 with 20 Axes>"
      ]
     },
     "metadata": {},
     "output_type": "display_data"
    }
   ],
   "source": [
    "# Calculate skewenes\n",
    "_ = df[sk_feat].hist()\n",
    "plt.savefig('./output/skewed_hist.png', dpi=300)"
   ]
  },
  {
   "cell_type": "markdown",
   "metadata": {},
   "source": [
    "For illistration, we plot the same scatter plots but using transformed living space variable."
   ]
  },
  {
   "cell_type": "code",
   "execution_count": 27,
   "metadata": {},
   "outputs": [
    {
     "data": {
      "image/png": "[encoded data removed]",
      "text/plain": [
       "<Figure size 864x432 with 2 Axes>"
      ]
     },
     "metadata": {},
     "output_type": "display_data"
    }
   ],
   "source": [
    "matplotlib.rcParams['figure.figsize'] = (12.0, 6.0)\n",
    "prices = pd.DataFrame({\"price\":saleprices, \"log(price)\":np.log(saleprices)})\n",
    "prices = prices.join(pd.DataFrame({'LivingArea':df.GrLivArea}))\n",
    "\n",
    "plt.subplot(1,2,1)\n",
    "plt.scatter(prices['LivingArea'], prices['log(price)'])\n",
    "plt.ylabel('Log Price')\n",
    "plt.xlabel('Log Living Area')\n",
    "plt.title('LogPrice')\n",
    "\n",
    "plt.subplot(1,2,2)\n",
    "plt.scatter(prices['LivingArea'], prices['price'])\n",
    "plt.ylabel('Price')\n",
    "plt.xlabel('Log Living Area')\n",
    "plt.title('Price')\n",
    "\n",
    "plt.savefig('./output/price_vs_log_vs_logliving.png', dpi=300)"
   ]
  },
  {
   "cell_type": "code",
   "execution_count": 28,
   "metadata": {},
   "outputs": [],
   "source": [
    "# Save skewed features list\n",
    "pickle.dump(sk_feat, open('./tmp/sk_feat.list', 'wb'))"
   ]
  },
  {
   "cell_type": "markdown",
   "metadata": {},
   "source": [
    "## Divide into train and test sets"
   ]
  },
  {
   "cell_type": "markdown",
   "metadata": {},
   "source": [
    "We divide the merged dataset into new train and test datasets, using SalePrice == 99 as a criterion. "
   ]
  },
  {
   "cell_type": "code",
   "execution_count": 29,
   "metadata": {},
   "outputs": [
    {
     "name": "stdout",
     "output_type": "stream",
     "text": [
      "(1460, 280)\n",
      "(1459, 279)\n"
     ]
    }
   ],
   "source": [
    "new_train = df.loc[df['SalePrice']!=99,:]\n",
    "new_test = df.loc[df['SalePrice']==99,:].copy()\n",
    "new_test.drop('SalePrice', axis=1, inplace=True)\n",
    "\n",
    "\n",
    "\n",
    "print(new_train.shape)\n",
    "print(new_test.shape)\n",
    "\n",
    "assert(test.shape[0]==new_test.shape[0])"
   ]
  },
  {
   "cell_type": "code",
   "execution_count": 30,
   "metadata": {},
   "outputs": [],
   "source": [
    "# Save new test and train sets\n",
    "new_test.to_csv('./data/new_test.csv')\n",
    "new_train.to_csv('./data/new_train.csv')"
   ]
  }
 ],
 "metadata": {
  "kernelspec": {
   "display_name": "Python 3",
   "language": "python",
   "name": "python3"
  },
  "language_info": {
   "codemirror_mode": {
    "name": "ipython",
    "version": 3
   },
   "file_extension": ".py",
   "mimetype": "text/x-python",
   "name": "python",
   "nbconvert_exporter": "python",
   "pygments_lexer": "ipython3",
   "version": "3.6.5"
  }
 },
 "nbformat": 4,
 "nbformat_minor": 2
}
